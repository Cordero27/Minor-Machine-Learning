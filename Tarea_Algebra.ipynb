{
  "nbformat": 4,
  "nbformat_minor": 0,
  "metadata": {
    "colab": {
      "name": "Tarea: Algebra",
      "provenance": [],
      "collapsed_sections": [],
      "authorship_tag": "ABX9TyM4lQicc7I8+WztA8iAXzFJ",
      "include_colab_link": true
    },
    "kernelspec": {
      "name": "python3",
      "display_name": "Python 3"
    },
    "language_info": {
      "name": "python"
    }
  },
  "cells": [
    {
      "cell_type": "markdown",
      "metadata": {
        "id": "view-in-github",
        "colab_type": "text"
      },
      "source": [
        "<a href=\"https://colab.research.google.com/github/Cordero27/Minor-Machine-Learning/blob/main/Tarea_Algebra.ipynb\" target=\"_parent\"><img src=\"https://colab.research.google.com/assets/colab-badge.svg\" alt=\"Open In Colab\"/></a>"
      ]
    },
    {
      "cell_type": "markdown",
      "source": [
        "# Resolución Tarea corta: Algebra"
      ],
      "metadata": {
        "id": "mVqHIYdspnys"
      }
    },
    {
      "cell_type": "markdown",
      "source": [
        "Para obtener el valor de los boletos de adultos y niños es necesario llevar las ecuaciones propuestas en el problema a un sistema de ecuaciones, pues este permite calcular en qué valores las rectas que dibujan las ecuaciones se intersectan. Las ecuaciones que se extraen el enunciado del problema son:\n",
        "\n",
        "> $2x + y = 32$ \\\\\n",
        "> $x + 3y = 36$ \\\\\n",
        "\n",
        "Primero se procede a igualar cada ecuación a cero:\n",
        "\n",
        "> $2x + y - 32 = 0$ \\\\\n",
        "> $x + 3y - 36 = 0$ \\\\\n",
        "\n",
        "Segundo, obtenemos las constantes que multiplican la variable $x$ de cada ecuación y multiplicamos cada una por la ecuación contraria:\n",
        "\n",
        "> $ 1 * |2x + y - 32 = 0$ \\\\\n",
        "> $ -2 * |x + 3y - 36 = 0$ \\\\\n",
        "\n",
        "> $2x + y - 32 = 0$ \\\\\n",
        "> $-2x - 6y + 72 = 0$ \\\\\n",
        "\n",
        "Tercero, sumamos una ecuación con otra:\n",
        "> $2x + y - 32 = 0$ \\\\\n",
        "> $-2x - 6y + 72 = 0$ \\\\\n",
        "> = \\\\\n",
        "> $0 - 5y + 40 = 0$ \\\\\n",
        "\n",
        "Por último despejamos la variable $y$:\n",
        "> $-5y + 40 = 0$ \\\\\n",
        "> $-5y = -40$ \\\\\n",
        "> $y = (-40)/(-5)$ \\\\\n",
        "> $y = 8$\n",
        "\n",
        "Ahora, necesitamos calcular $x$, por lo que reemplazamos el nuevo valor de $y$ en una de las ecuaciones anteriores:\n",
        "\n",
        "> $2x + y = 32$ \\\\\n",
        "> $2x + 8 = 32$ \\\\\n",
        "> $2x = 32 - 8$ \\\\\n",
        "> $2x = 24$ \\\\\n",
        "> $2x = 24/2$ \\\\\n",
        "> $x = 12$ \\\\\n",
        "\n",
        "Finalmente como resultado obtuvimos que $x = 12$ e $y = 8$.\n",
        "Para evidenciar gráficamente la correctitud del resultado, sometemos cada ecuación a un gráficos 2D:\n"
      ],
      "metadata": {
        "id": "F6wJoD431Cld"
      }
    },
    {
      "cell_type": "code",
      "source": [
        "#Importamos las librerias necesarias\n",
        "import numpy as np\n",
        "import matplotlib.pyplot as plt"
      ],
      "metadata": {
        "id": "Ite2pZF5p8Yj"
      },
      "execution_count": 9,
      "outputs": []
    },
    {
      "cell_type": "code",
      "source": [
        "#Creamos el arreglo que delimita el orígen y destino de cada recta formada por cada ecuación\n",
        "x = np.linspace(0, 100, 1000)"
      ],
      "metadata": {
        "id": "iL8ZKEEupnQc"
      },
      "execution_count": 39,
      "outputs": []
    },
    {
      "cell_type": "code",
      "execution_count": 40,
      "metadata": {
        "id": "ejUCXBSudVfL"
      },
      "outputs": [],
      "source": [
        "#Ecuación 1\n",
        "y1 = 32 - 2*x"
      ]
    },
    {
      "cell_type": "code",
      "source": [
        "#Ecuación 2\n",
        "y2 = 12 - (x/3)"
      ],
      "metadata": {
        "id": "N2Uh2-1ReJgg"
      },
      "execution_count": 44,
      "outputs": []
    },
    {
      "cell_type": "code",
      "source": [
        "#Gráfico de matplotlib que permite la evidencia gráfica\n",
        "fig, ax = plt.subplots()\n",
        "plt.xlabel('x')\n",
        "plt.ylabel('y')\n",
        "ax.set_xlim([0, 18])\n",
        "ax.set_ylim([0, 35])\n",
        "ax.plot(x, y1, c='green')\n",
        "ax.plot(x, y2, c='brown')\n",
        "plt.axvline(x=12, color='purple', linestyle='--') #usamos el x obtenido en el sistema de ecuaciones\n",
        "_ = plt.axhline(y=8, color='purple', linestyle='--') #usamos el y obtenido en el sistema de ecuaciones"
      ],
      "metadata": {
        "colab": {
          "base_uri": "https://localhost:8080/",
          "height": 283
        },
        "id": "8r33k9BNeO91",
        "outputId": "37b1e91f-2f03-4f6e-8ea5-5f47e70cbf42"
      },
      "execution_count": 57,
      "outputs": [
        {
          "output_type": "display_data",
          "data": {
            "text/plain": [
              "<Figure size 432x288 with 1 Axes>"
            ],
            "image/png": "[encoded data removed]"
          },
          "metadata": {
            "needs_background": "light"
          }
        }
      ]
    },
    {
      "cell_type": "markdown",
      "source": [
        "Con el gráfico anterior confirmamos que las operaciones del sistema de ecuaciones son correctas, debido a que las rectas formadas por las ecuaciones se intersectan en la coordenada $(12, 8)$."
      ],
      "metadata": {
        "id": "R9vYe6lp8lDd"
      }
    }
  ]
}