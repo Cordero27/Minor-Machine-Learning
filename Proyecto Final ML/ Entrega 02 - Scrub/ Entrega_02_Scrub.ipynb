{
  "nbformat": 4,
  "nbformat_minor": 0,
  "metadata": {
    "colab": {
      "provenance": [],
      "include_colab_link": true
    },
    "kernelspec": {
      "name": "python3",
      "display_name": "Python 3"
    },
    "language_info": {
      "name": "python"
    }
  },
  "cells": [
    {
      "cell_type": "markdown",
      "metadata": {
        "id": "view-in-github",
        "colab_type": "text"
      },
      "source": [
        "<a href=\"https://colab.research.google.com/github/Cordero27/Minor-Machine-Learning/blob/main/Proyecto%20Final%20ML/%20Entrega%2002%20-%20Scrub/%20Entrega_02_Scrub.ipynb\" target=\"_parent\"><img src=\"https://colab.research.google.com/assets/colab-badge.svg\" alt=\"Open In Colab\"/></a>"
      ]
    },
    {
      "cell_type": "markdown",
      "source": [
        "## Proyecto Final - Reconocimiento de Actividad Humana (HAR)\n"
      ],
      "metadata": {
        "id": "0z-T0YDwxAXq"
      }
    },
    {
      "cell_type": "code",
      "execution_count": 29,
      "metadata": {
        "id": "bzVprbfpWSLa"
      },
      "outputs": [],
      "source": [
        "import tensorflow as tf\n",
        "import pandas as pd\n",
        "import numpy as np\n",
        "import matplotlib.pyplot as plt\n",
        "from sklearn.preprocessing import StandardScaler, LabelEncoder"
      ]
    },
    {
      "cell_type": "markdown",
      "source": [
        "###Entrega 01 - OBTAIN"
      ],
      "metadata": {
        "id": "UR9cAy_ExKGq"
      }
    },
    {
      "cell_type": "markdown",
      "source": [
        "Incluir todo el código de la Etapa 01 - OBTAIN creada en la semana anterior"
      ],
      "metadata": {
        "id": "IbSKJtMLaG9e"
      }
    },
    {
      "cell_type": "code",
      "source": [
        "#Librerias a utilizar\n",
        "import pandas as pd\n",
        "\n",
        "#Fuente del dataset: https://www.cis.fordham.edu/wisdm/includes/datasets/latest/WISDM_ar_latest.tar.gz\n",
        "#Afortunadamente también podemos usar la función de extración de datos para archivos .csv\n",
        "#Como este archivo no posee cabeceras, las incorporamos a la hora de leerlo con el parámetro names.\n",
        "#Además, como el archivo con los datos posee filas de datos incompletas, recurrimos a ignorarlas para evitar alterar las estadisticas del conjunto con datos externos.\n",
        "data = pd.read_csv('https://raw.githubusercontent.com/Cordero27/Minor-Machine-Learning/main/WISDM_ar_v1.1_raw.txt', on_bad_lines='skip',\n",
        "                   names=[\"user\",\"activity\",\"timestamp\",\"x-acceleration\",\"y-accel\",\"z-accel\"])\n",
        "\n",
        "#Observamos el contenido adquirido del archivo .txt\n",
        "data.head()"
      ],
      "metadata": {
        "id": "nQsWnulDWdDD",
        "outputId": "cfd9fab3-ebfa-4f63-cd4b-093ebb2b2fc7",
        "colab": {
          "base_uri": "https://localhost:8080/",
          "height": 206
        }
      },
      "execution_count": 30,
      "outputs": [
        {
          "output_type": "execute_result",
          "data": {
            "text/plain": [
              "   user activity       timestamp  x-acceleration    y-accel       z-accel\n",
              "0    33  Jogging  49105962326000       -0.694638  12.680544   0.50395286;\n",
              "1    33  Jogging  49106062271000        5.012288  11.264028   0.95342433;\n",
              "2    33  Jogging  49106112167000        4.903325  10.882658  -0.08172209;\n",
              "3    33  Jogging  49106222305000       -0.612916  18.496431    3.0237172;\n",
              "4    33  Jogging  49106332290000       -1.184970  12.108489     7.205164;"
            ],
            "text/html": [
              "\n",
              "  <div id=\"df-7f712377-b681-46eb-9ec4-0d8d26f6f520\">\n",
              "    <div class=\"colab-df-container\">\n",
              "      <div>\n",
              "<style scoped>\n",
              "    .dataframe tbody tr th:only-of-type {\n",
              "        vertical-align: middle;\n",
              "    }\n",
              "\n",
              "    .dataframe tbody tr th {\n",
              "        vertical-align: top;\n",
              "    }\n",
              "\n",
              "    .dataframe thead th {\n",
              "        text-align: right;\n",
              "    }\n",
              "</style>\n",
              "<table border=\"1\" class=\"dataframe\">\n",
              "  <thead>\n",
              "    <tr style=\"text-align: right;\">\n",
              "      <th></th>\n",
              "      <th>user</th>\n",
              "      <th>activity</th>\n",
              "      <th>timestamp</th>\n",
              "      <th>x-acceleration</th>\n",
              "      <th>y-accel</th>\n",
              "      <th>z-accel</th>\n",
              "    </tr>\n",
              "  </thead>\n",
              "  <tbody>\n",
              "    <tr>\n",
              "      <th>0</th>\n",
              "      <td>33</td>\n",
              "      <td>Jogging</td>\n",
              "      <td>49105962326000</td>\n",
              "      <td>-0.694638</td>\n",
              "      <td>12.680544</td>\n",
              "      <td>0.50395286;</td>\n",
              "    </tr>\n",
              "    <tr>\n",
              "      <th>1</th>\n",
              "      <td>33</td>\n",
              "      <td>Jogging</td>\n",
              "      <td>49106062271000</td>\n",
              "      <td>5.012288</td>\n",
              "      <td>11.264028</td>\n",
              "      <td>0.95342433;</td>\n",
              "    </tr>\n",
              "    <tr>\n",
              "      <th>2</th>\n",
              "      <td>33</td>\n",
              "      <td>Jogging</td>\n",
              "      <td>49106112167000</td>\n",
              "      <td>4.903325</td>\n",
              "      <td>10.882658</td>\n",
              "      <td>-0.08172209;</td>\n",
              "    </tr>\n",
              "    <tr>\n",
              "      <th>3</th>\n",
              "      <td>33</td>\n",
              "      <td>Jogging</td>\n",
              "      <td>49106222305000</td>\n",
              "      <td>-0.612916</td>\n",
              "      <td>18.496431</td>\n",
              "      <td>3.0237172;</td>\n",
              "    </tr>\n",
              "    <tr>\n",
              "      <th>4</th>\n",
              "      <td>33</td>\n",
              "      <td>Jogging</td>\n",
              "      <td>49106332290000</td>\n",
              "      <td>-1.184970</td>\n",
              "      <td>12.108489</td>\n",
              "      <td>7.205164;</td>\n",
              "    </tr>\n",
              "  </tbody>\n",
              "</table>\n",
              "</div>\n",
              "      <button class=\"colab-df-convert\" onclick=\"convertToInteractive('df-7f712377-b681-46eb-9ec4-0d8d26f6f520')\"\n",
              "              title=\"Convert this dataframe to an interactive table.\"\n",
              "              style=\"display:none;\">\n",
              "        \n",
              "  <svg xmlns=\"http://www.w3.org/2000/svg\" height=\"24px\"viewBox=\"0 0 24 24\"\n",
              "       width=\"24px\">\n",
              "    <path d=\"M0 0h24v24H0V0z\" fill=\"none\"/>\n",
              "    <path d=\"M18.56 5.44l.94 2.06.94-2.06 2.06-.94-2.06-.94-.94-2.06-.94 2.06-2.06.94zm-11 1L8.5 8.5l.94-2.06 2.06-.94-2.06-.94L8.5 2.5l-.94 2.06-2.06.94zm10 10l.94 2.06.94-2.06 2.06-.94-2.06-.94-.94-2.06-.94 2.06-2.06.94z\"/><path d=\"M17.41 7.96l-1.37-1.37c-.4-.4-.92-.59-1.43-.59-.52 0-1.04.2-1.43.59L10.3 9.45l-7.72 7.72c-.78.78-.78 2.05 0 2.83L4 21.41c.39.39.9.59 1.41.59.51 0 1.02-.2 1.41-.59l7.78-7.78 2.81-2.81c.8-.78.8-2.07 0-2.86zM5.41 20L4 18.59l7.72-7.72 1.47 1.35L5.41 20z\"/>\n",
              "  </svg>\n",
              "      </button>\n",
              "      \n",
              "  <style>\n",
              "    .colab-df-container {\n",
              "      display:flex;\n",
              "      flex-wrap:wrap;\n",
              "      gap: 12px;\n",
              "    }\n",
              "\n",
              "    .colab-df-convert {\n",
              "      background-color: #E8F0FE;\n",
              "      border: none;\n",
              "      border-radius: 50%;\n",
              "      cursor: pointer;\n",
              "      display: none;\n",
              "      fill: #1967D2;\n",
              "      height: 32px;\n",
              "      padding: 0 0 0 0;\n",
              "      width: 32px;\n",
              "    }\n",
              "\n",
              "    .colab-df-convert:hover {\n",
              "      background-color: #E2EBFA;\n",
              "      box-shadow: 0px 1px 2px rgba(60, 64, 67, 0.3), 0px 1px 3px 1px rgba(60, 64, 67, 0.15);\n",
              "      fill: #174EA6;\n",
              "    }\n",
              "\n",
              "    [theme=dark] .colab-df-convert {\n",
              "      background-color: #3B4455;\n",
              "      fill: #D2E3FC;\n",
              "    }\n",
              "\n",
              "    [theme=dark] .colab-df-convert:hover {\n",
              "      background-color: #434B5C;\n",
              "      box-shadow: 0px 1px 3px 1px rgba(0, 0, 0, 0.15);\n",
              "      filter: drop-shadow(0px 1px 2px rgba(0, 0, 0, 0.3));\n",
              "      fill: #FFFFFF;\n",
              "    }\n",
              "  </style>\n",
              "\n",
              "      <script>\n",
              "        const buttonEl =\n",
              "          document.querySelector('#df-7f712377-b681-46eb-9ec4-0d8d26f6f520 button.colab-df-convert');\n",
              "        buttonEl.style.display =\n",
              "          google.colab.kernel.accessAllowed ? 'block' : 'none';\n",
              "\n",
              "        async function convertToInteractive(key) {\n",
              "          const element = document.querySelector('#df-7f712377-b681-46eb-9ec4-0d8d26f6f520');\n",
              "          const dataTable =\n",
              "            await google.colab.kernel.invokeFunction('convertToInteractive',\n",
              "                                                     [key], {});\n",
              "          if (!dataTable) return;\n",
              "\n",
              "          const docLinkHtml = 'Like what you see? Visit the ' +\n",
              "            '<a target=\"_blank\" href=https://colab.research.google.com/notebooks/data_table.ipynb>data table notebook</a>'\n",
              "            + ' to learn more about interactive tables.';\n",
              "          element.innerHTML = '';\n",
              "          dataTable['output_type'] = 'display_data';\n",
              "          await google.colab.output.renderOutput(dataTable, element);\n",
              "          const docLink = document.createElement('div');\n",
              "          docLink.innerHTML = docLinkHtml;\n",
              "          element.appendChild(docLink);\n",
              "        }\n",
              "      </script>\n",
              "    </div>\n",
              "  </div>\n",
              "  "
            ]
          },
          "metadata": {},
          "execution_count": 30
        }
      ]
    },
    {
      "cell_type": "markdown",
      "source": [
        "###Entrega 02 - SCRUB"
      ],
      "metadata": {
        "id": "bC-qNw90xMbm"
      }
    },
    {
      "cell_type": "markdown",
      "source": [
        "Eliminar filas con datos faltantes"
      ],
      "metadata": {
        "id": "tjz8vKIndc9x"
      }
    },
    {
      "cell_type": "markdown",
      "source": [
        "*Uno de los pasos iniciales en la limpieza de datos consiste en eliminar aquellas filas que contengan datos faltantes. Estas líneas generalmente no aportan información y pueden complicar la etapa de entrenamiento y validación de muchos modelos predictivos.*\n"
      ],
      "metadata": {
        "id": "2gdFhS7ueHhz"
      }
    },
    {
      "cell_type": "code",
      "source": [
        "#Verificamos si existen NAs dentro del conjunto de datos.\n",
        "data.info()\n",
        "\n",
        "#Como en la columna z-accel tiene un valor null, debemos equilibrar el resto de columnas.\n",
        "dataWONA = data.dropna()\n",
        "\n"
      ],
      "metadata": {
        "colab": {
          "base_uri": "https://localhost:8080/"
        },
        "id": "FPg26zXvXt_I",
        "outputId": "c08690e0-ad62-47a8-be9a-b6516d172a70"
      },
      "execution_count": 31,
      "outputs": [
        {
          "output_type": "stream",
          "name": "stdout",
          "text": [
            "<class 'pandas.core.frame.DataFrame'>\n",
            "RangeIndex: 1098204 entries, 0 to 1098203\n",
            "Data columns (total 6 columns):\n",
            " #   Column          Non-Null Count    Dtype  \n",
            "---  ------          --------------    -----  \n",
            " 0   user            1098204 non-null  int64  \n",
            " 1   activity        1098204 non-null  object \n",
            " 2   timestamp       1098204 non-null  int64  \n",
            " 3   x-acceleration  1098204 non-null  float64\n",
            " 4   y-accel         1098204 non-null  float64\n",
            " 5   z-accel         1098203 non-null  object \n",
            "dtypes: float64(2), int64(2), object(2)\n",
            "memory usage: 50.3+ MB\n"
          ]
        }
      ]
    },
    {
      "cell_type": "markdown",
      "source": [
        "Agregar al DataFrame los nombres de las columnas "
      ],
      "metadata": {
        "id": "bv2K6JyupHmz"
      }
    },
    {
      "cell_type": "markdown",
      "source": [
        "*En ocasiones al crear los data frames el sistema asigna nombres genéricos y correlativos a las columnas. Es recomendable renombrar las columnas por nombres significativos para favorecer el análisis posterior de los datos.*"
      ],
      "metadata": {
        "id": "LDaBkEj8eiWO"
      }
    },
    {
      "cell_type": "code",
      "source": [
        "#Este paso fue ejecutado anteriormente. Especificamente al cargar el archivo con el dataset."
      ],
      "metadata": {
        "id": "IlHr1LMyb7SW"
      },
      "execution_count": 32,
      "outputs": []
    },
    {
      "cell_type": "markdown",
      "source": [
        "Visualizar las 5 primeras filas del DataFrame (.head())"
      ],
      "metadata": {
        "id": "ycA0bML1b7v-"
      }
    },
    {
      "cell_type": "markdown",
      "source": [
        "*Siempre es buena medida visualizar algunas líneas del dataframe para tener una idea concreta del contenido.*\n"
      ],
      "metadata": {
        "id": "B8A6SUZvduds"
      }
    },
    {
      "cell_type": "code",
      "source": [
        "dataWONA.head()"
      ],
      "metadata": {
        "colab": {
          "base_uri": "https://localhost:8080/",
          "height": 206
        },
        "id": "T3m_GCUxX-NL",
        "outputId": "eb4ad003-5f5a-4e2c-fe3b-fb4dd7eec3da"
      },
      "execution_count": 33,
      "outputs": [
        {
          "output_type": "execute_result",
          "data": {
            "text/plain": [
              "   user activity       timestamp  x-acceleration    y-accel       z-accel\n",
              "0    33  Jogging  49105962326000       -0.694638  12.680544   0.50395286;\n",
              "1    33  Jogging  49106062271000        5.012288  11.264028   0.95342433;\n",
              "2    33  Jogging  49106112167000        4.903325  10.882658  -0.08172209;\n",
              "3    33  Jogging  49106222305000       -0.612916  18.496431    3.0237172;\n",
              "4    33  Jogging  49106332290000       -1.184970  12.108489     7.205164;"
            ],
            "text/html": [
              "\n",
              "  <div id=\"df-a846b5bc-e032-47a5-a8d7-289151cc4896\">\n",
              "    <div class=\"colab-df-container\">\n",
              "      <div>\n",
              "<style scoped>\n",
              "    .dataframe tbody tr th:only-of-type {\n",
              "        vertical-align: middle;\n",
              "    }\n",
              "\n",
              "    .dataframe tbody tr th {\n",
              "        vertical-align: top;\n",
              "    }\n",
              "\n",
              "    .dataframe thead th {\n",
              "        text-align: right;\n",
              "    }\n",
              "</style>\n",
              "<table border=\"1\" class=\"dataframe\">\n",
              "  <thead>\n",
              "    <tr style=\"text-align: right;\">\n",
              "      <th></th>\n",
              "      <th>user</th>\n",
              "      <th>activity</th>\n",
              "      <th>timestamp</th>\n",
              "      <th>x-acceleration</th>\n",
              "      <th>y-accel</th>\n",
              "      <th>z-accel</th>\n",
              "    </tr>\n",
              "  </thead>\n",
              "  <tbody>\n",
              "    <tr>\n",
              "      <th>0</th>\n",
              "      <td>33</td>\n",
              "      <td>Jogging</td>\n",
              "      <td>49105962326000</td>\n",
              "      <td>-0.694638</td>\n",
              "      <td>12.680544</td>\n",
              "      <td>0.50395286;</td>\n",
              "    </tr>\n",
              "    <tr>\n",
              "      <th>1</th>\n",
              "      <td>33</td>\n",
              "      <td>Jogging</td>\n",
              "      <td>49106062271000</td>\n",
              "      <td>5.012288</td>\n",
              "      <td>11.264028</td>\n",
              "      <td>0.95342433;</td>\n",
              "    </tr>\n",
              "    <tr>\n",
              "      <th>2</th>\n",
              "      <td>33</td>\n",
              "      <td>Jogging</td>\n",
              "      <td>49106112167000</td>\n",
              "      <td>4.903325</td>\n",
              "      <td>10.882658</td>\n",
              "      <td>-0.08172209;</td>\n",
              "    </tr>\n",
              "    <tr>\n",
              "      <th>3</th>\n",
              "      <td>33</td>\n",
              "      <td>Jogging</td>\n",
              "      <td>49106222305000</td>\n",
              "      <td>-0.612916</td>\n",
              "      <td>18.496431</td>\n",
              "      <td>3.0237172;</td>\n",
              "    </tr>\n",
              "    <tr>\n",
              "      <th>4</th>\n",
              "      <td>33</td>\n",
              "      <td>Jogging</td>\n",
              "      <td>49106332290000</td>\n",
              "      <td>-1.184970</td>\n",
              "      <td>12.108489</td>\n",
              "      <td>7.205164;</td>\n",
              "    </tr>\n",
              "  </tbody>\n",
              "</table>\n",
              "</div>\n",
              "      <button class=\"colab-df-convert\" onclick=\"convertToInteractive('df-a846b5bc-e032-47a5-a8d7-289151cc4896')\"\n",
              "              title=\"Convert this dataframe to an interactive table.\"\n",
              "              style=\"display:none;\">\n",
              "        \n",
              "  <svg xmlns=\"http://www.w3.org/2000/svg\" height=\"24px\"viewBox=\"0 0 24 24\"\n",
              "       width=\"24px\">\n",
              "    <path d=\"M0 0h24v24H0V0z\" fill=\"none\"/>\n",
              "    <path d=\"M18.56 5.44l.94 2.06.94-2.06 2.06-.94-2.06-.94-.94-2.06-.94 2.06-2.06.94zm-11 1L8.5 8.5l.94-2.06 2.06-.94-2.06-.94L8.5 2.5l-.94 2.06-2.06.94zm10 10l.94 2.06.94-2.06 2.06-.94-2.06-.94-.94-2.06-.94 2.06-2.06.94z\"/><path d=\"M17.41 7.96l-1.37-1.37c-.4-.4-.92-.59-1.43-.59-.52 0-1.04.2-1.43.59L10.3 9.45l-7.72 7.72c-.78.78-.78 2.05 0 2.83L4 21.41c.39.39.9.59 1.41.59.51 0 1.02-.2 1.41-.59l7.78-7.78 2.81-2.81c.8-.78.8-2.07 0-2.86zM5.41 20L4 18.59l7.72-7.72 1.47 1.35L5.41 20z\"/>\n",
              "  </svg>\n",
              "      </button>\n",
              "      \n",
              "  <style>\n",
              "    .colab-df-container {\n",
              "      display:flex;\n",
              "      flex-wrap:wrap;\n",
              "      gap: 12px;\n",
              "    }\n",
              "\n",
              "    .colab-df-convert {\n",
              "      background-color: #E8F0FE;\n",
              "      border: none;\n",
              "      border-radius: 50%;\n",
              "      cursor: pointer;\n",
              "      display: none;\n",
              "      fill: #1967D2;\n",
              "      height: 32px;\n",
              "      padding: 0 0 0 0;\n",
              "      width: 32px;\n",
              "    }\n",
              "\n",
              "    .colab-df-convert:hover {\n",
              "      background-color: #E2EBFA;\n",
              "      box-shadow: 0px 1px 2px rgba(60, 64, 67, 0.3), 0px 1px 3px 1px rgba(60, 64, 67, 0.15);\n",
              "      fill: #174EA6;\n",
              "    }\n",
              "\n",
              "    [theme=dark] .colab-df-convert {\n",
              "      background-color: #3B4455;\n",
              "      fill: #D2E3FC;\n",
              "    }\n",
              "\n",
              "    [theme=dark] .colab-df-convert:hover {\n",
              "      background-color: #434B5C;\n",
              "      box-shadow: 0px 1px 3px 1px rgba(0, 0, 0, 0.15);\n",
              "      filter: drop-shadow(0px 1px 2px rgba(0, 0, 0, 0.3));\n",
              "      fill: #FFFFFF;\n",
              "    }\n",
              "  </style>\n",
              "\n",
              "      <script>\n",
              "        const buttonEl =\n",
              "          document.querySelector('#df-a846b5bc-e032-47a5-a8d7-289151cc4896 button.colab-df-convert');\n",
              "        buttonEl.style.display =\n",
              "          google.colab.kernel.accessAllowed ? 'block' : 'none';\n",
              "\n",
              "        async function convertToInteractive(key) {\n",
              "          const element = document.querySelector('#df-a846b5bc-e032-47a5-a8d7-289151cc4896');\n",
              "          const dataTable =\n",
              "            await google.colab.kernel.invokeFunction('convertToInteractive',\n",
              "                                                     [key], {});\n",
              "          if (!dataTable) return;\n",
              "\n",
              "          const docLinkHtml = 'Like what you see? Visit the ' +\n",
              "            '<a target=\"_blank\" href=https://colab.research.google.com/notebooks/data_table.ipynb>data table notebook</a>'\n",
              "            + ' to learn more about interactive tables.';\n",
              "          element.innerHTML = '';\n",
              "          dataTable['output_type'] = 'display_data';\n",
              "          await google.colab.output.renderOutput(dataTable, element);\n",
              "          const docLink = document.createElement('div');\n",
              "          docLink.innerHTML = docLinkHtml;\n",
              "          element.appendChild(docLink);\n",
              "        }\n",
              "      </script>\n",
              "    </div>\n",
              "  </div>\n",
              "  "
            ]
          },
          "metadata": {},
          "execution_count": 33
        }
      ]
    },
    {
      "cell_type": "markdown",
      "source": [
        "Buscar datos nulos y eliminarlos si es que existen"
      ],
      "metadata": {
        "id": "kMz3ML3cpY2g"
      }
    },
    {
      "cell_type": "code",
      "source": [
        "#Este paso fue ejecutado al inicio de la etapa 2\n",
        "#Pero limpiaremos las filas que tengan un mal formato de los datos\n",
        "\n",
        "#Notamos que en la columna z-accel el caracter ';' esta presente al final de cada numero, por lo cual debemos quitarlo\n",
        "dataWONA['z-accel'] = dataWONA['z-accel'].str.rstrip(';')\n",
        "dataWONA.head()\n"
      ],
      "metadata": {
        "id": "Dwqj39f7cWjr",
        "outputId": "b4f15008-0d94-415a-fd17-d7af62a0571e",
        "colab": {
          "base_uri": "https://localhost:8080/",
          "height": 313
        }
      },
      "execution_count": 34,
      "outputs": [
        {
          "output_type": "stream",
          "name": "stderr",
          "text": [
            "/usr/local/lib/python3.7/dist-packages/ipykernel_launcher.py:5: SettingWithCopyWarning: \n",
            "A value is trying to be set on a copy of a slice from a DataFrame.\n",
            "Try using .loc[row_indexer,col_indexer] = value instead\n",
            "\n",
            "See the caveats in the documentation: https://pandas.pydata.org/pandas-docs/stable/user_guide/indexing.html#returning-a-view-versus-a-copy\n",
            "  \"\"\"\n"
          ]
        },
        {
          "output_type": "execute_result",
          "data": {
            "text/plain": [
              "   user activity       timestamp  x-acceleration    y-accel      z-accel\n",
              "0    33  Jogging  49105962326000       -0.694638  12.680544   0.50395286\n",
              "1    33  Jogging  49106062271000        5.012288  11.264028   0.95342433\n",
              "2    33  Jogging  49106112167000        4.903325  10.882658  -0.08172209\n",
              "3    33  Jogging  49106222305000       -0.612916  18.496431    3.0237172\n",
              "4    33  Jogging  49106332290000       -1.184970  12.108489     7.205164"
            ],
            "text/html": [
              "\n",
              "  <div id=\"df-8772bcd2-cfbe-4a31-b13e-63b0d4bf75b2\">\n",
              "    <div class=\"colab-df-container\">\n",
              "      <div>\n",
              "<style scoped>\n",
              "    .dataframe tbody tr th:only-of-type {\n",
              "        vertical-align: middle;\n",
              "    }\n",
              "\n",
              "    .dataframe tbody tr th {\n",
              "        vertical-align: top;\n",
              "    }\n",
              "\n",
              "    .dataframe thead th {\n",
              "        text-align: right;\n",
              "    }\n",
              "</style>\n",
              "<table border=\"1\" class=\"dataframe\">\n",
              "  <thead>\n",
              "    <tr style=\"text-align: right;\">\n",
              "      <th></th>\n",
              "      <th>user</th>\n",
              "      <th>activity</th>\n",
              "      <th>timestamp</th>\n",
              "      <th>x-acceleration</th>\n",
              "      <th>y-accel</th>\n",
              "      <th>z-accel</th>\n",
              "    </tr>\n",
              "  </thead>\n",
              "  <tbody>\n",
              "    <tr>\n",
              "      <th>0</th>\n",
              "      <td>33</td>\n",
              "      <td>Jogging</td>\n",
              "      <td>49105962326000</td>\n",
              "      <td>-0.694638</td>\n",
              "      <td>12.680544</td>\n",
              "      <td>0.50395286</td>\n",
              "    </tr>\n",
              "    <tr>\n",
              "      <th>1</th>\n",
              "      <td>33</td>\n",
              "      <td>Jogging</td>\n",
              "      <td>49106062271000</td>\n",
              "      <td>5.012288</td>\n",
              "      <td>11.264028</td>\n",
              "      <td>0.95342433</td>\n",
              "    </tr>\n",
              "    <tr>\n",
              "      <th>2</th>\n",
              "      <td>33</td>\n",
              "      <td>Jogging</td>\n",
              "      <td>49106112167000</td>\n",
              "      <td>4.903325</td>\n",
              "      <td>10.882658</td>\n",
              "      <td>-0.08172209</td>\n",
              "    </tr>\n",
              "    <tr>\n",
              "      <th>3</th>\n",
              "      <td>33</td>\n",
              "      <td>Jogging</td>\n",
              "      <td>49106222305000</td>\n",
              "      <td>-0.612916</td>\n",
              "      <td>18.496431</td>\n",
              "      <td>3.0237172</td>\n",
              "    </tr>\n",
              "    <tr>\n",
              "      <th>4</th>\n",
              "      <td>33</td>\n",
              "      <td>Jogging</td>\n",
              "      <td>49106332290000</td>\n",
              "      <td>-1.184970</td>\n",
              "      <td>12.108489</td>\n",
              "      <td>7.205164</td>\n",
              "    </tr>\n",
              "  </tbody>\n",
              "</table>\n",
              "</div>\n",
              "      <button class=\"colab-df-convert\" onclick=\"convertToInteractive('df-8772bcd2-cfbe-4a31-b13e-63b0d4bf75b2')\"\n",
              "              title=\"Convert this dataframe to an interactive table.\"\n",
              "              style=\"display:none;\">\n",
              "        \n",
              "  <svg xmlns=\"http://www.w3.org/2000/svg\" height=\"24px\"viewBox=\"0 0 24 24\"\n",
              "       width=\"24px\">\n",
              "    <path d=\"M0 0h24v24H0V0z\" fill=\"none\"/>\n",
              "    <path d=\"M18.56 5.44l.94 2.06.94-2.06 2.06-.94-2.06-.94-.94-2.06-.94 2.06-2.06.94zm-11 1L8.5 8.5l.94-2.06 2.06-.94-2.06-.94L8.5 2.5l-.94 2.06-2.06.94zm10 10l.94 2.06.94-2.06 2.06-.94-2.06-.94-.94-2.06-.94 2.06-2.06.94z\"/><path d=\"M17.41 7.96l-1.37-1.37c-.4-.4-.92-.59-1.43-.59-.52 0-1.04.2-1.43.59L10.3 9.45l-7.72 7.72c-.78.78-.78 2.05 0 2.83L4 21.41c.39.39.9.59 1.41.59.51 0 1.02-.2 1.41-.59l7.78-7.78 2.81-2.81c.8-.78.8-2.07 0-2.86zM5.41 20L4 18.59l7.72-7.72 1.47 1.35L5.41 20z\"/>\n",
              "  </svg>\n",
              "      </button>\n",
              "      \n",
              "  <style>\n",
              "    .colab-df-container {\n",
              "      display:flex;\n",
              "      flex-wrap:wrap;\n",
              "      gap: 12px;\n",
              "    }\n",
              "\n",
              "    .colab-df-convert {\n",
              "      background-color: #E8F0FE;\n",
              "      border: none;\n",
              "      border-radius: 50%;\n",
              "      cursor: pointer;\n",
              "      display: none;\n",
              "      fill: #1967D2;\n",
              "      height: 32px;\n",
              "      padding: 0 0 0 0;\n",
              "      width: 32px;\n",
              "    }\n",
              "\n",
              "    .colab-df-convert:hover {\n",
              "      background-color: #E2EBFA;\n",
              "      box-shadow: 0px 1px 2px rgba(60, 64, 67, 0.3), 0px 1px 3px 1px rgba(60, 64, 67, 0.15);\n",
              "      fill: #174EA6;\n",
              "    }\n",
              "\n",
              "    [theme=dark] .colab-df-convert {\n",
              "      background-color: #3B4455;\n",
              "      fill: #D2E3FC;\n",
              "    }\n",
              "\n",
              "    [theme=dark] .colab-df-convert:hover {\n",
              "      background-color: #434B5C;\n",
              "      box-shadow: 0px 1px 3px 1px rgba(0, 0, 0, 0.15);\n",
              "      filter: drop-shadow(0px 1px 2px rgba(0, 0, 0, 0.3));\n",
              "      fill: #FFFFFF;\n",
              "    }\n",
              "  </style>\n",
              "\n",
              "      <script>\n",
              "        const buttonEl =\n",
              "          document.querySelector('#df-8772bcd2-cfbe-4a31-b13e-63b0d4bf75b2 button.colab-df-convert');\n",
              "        buttonEl.style.display =\n",
              "          google.colab.kernel.accessAllowed ? 'block' : 'none';\n",
              "\n",
              "        async function convertToInteractive(key) {\n",
              "          const element = document.querySelector('#df-8772bcd2-cfbe-4a31-b13e-63b0d4bf75b2');\n",
              "          const dataTable =\n",
              "            await google.colab.kernel.invokeFunction('convertToInteractive',\n",
              "                                                     [key], {});\n",
              "          if (!dataTable) return;\n",
              "\n",
              "          const docLinkHtml = 'Like what you see? Visit the ' +\n",
              "            '<a target=\"_blank\" href=https://colab.research.google.com/notebooks/data_table.ipynb>data table notebook</a>'\n",
              "            + ' to learn more about interactive tables.';\n",
              "          element.innerHTML = '';\n",
              "          dataTable['output_type'] = 'display_data';\n",
              "          await google.colab.output.renderOutput(dataTable, element);\n",
              "          const docLink = document.createElement('div');\n",
              "          docLink.innerHTML = docLinkHtml;\n",
              "          element.appendChild(docLink);\n",
              "        }\n",
              "      </script>\n",
              "    </div>\n",
              "  </div>\n",
              "  "
            ]
          },
          "metadata": {},
          "execution_count": 34
        }
      ]
    },
    {
      "cell_type": "code",
      "source": [
        "#Como desde un inicio, la columna z-accel tenia el caracter ';', el sistema consideró la fila con tipo object, por lo tanto debemos pasarla a tipo float\n",
        "#dataWONA['z-accel'] = dataWONA['z-accel'].astype(str).astype(float)\n",
        "#NOS ENCONTRAMOS CON UN ERROR!!, pero nos permite conocer que la fila z-accel aun no está limpia\n",
        "#(ESTA COMENTADA LA LINEA DE CÓDIGO PARA EVITAR QUE LA EJECUCIÓN AUTOMÁTICA DE CELDAS SE CANCELE PRODUCTO DE ESTE ERROR)"
      ],
      "metadata": {
        "id": "gIgpWuoHMFZi"
      },
      "execution_count": 35,
      "outputs": []
    },
    {
      "cell_type": "code",
      "source": [
        "#Con el error anterior, sabemos que existen ';' entre los numeros de la columna, entonces reemplazamos el \";\"\" por \"\".\n",
        "import re\n",
        "dataWONA['z-accel']=dataWONA['z-accel'].str.replace(\";\",\"\")"
      ],
      "metadata": {
        "id": "gVaeOZvHMHFk",
        "outputId": "17b8c52a-0828-442e-8b53-fac837f2a882",
        "colab": {
          "base_uri": "https://localhost:8080/"
        }
      },
      "execution_count": 36,
      "outputs": [
        {
          "output_type": "stream",
          "name": "stderr",
          "text": [
            "/usr/local/lib/python3.7/dist-packages/ipykernel_launcher.py:3: SettingWithCopyWarning: \n",
            "A value is trying to be set on a copy of a slice from a DataFrame.\n",
            "Try using .loc[row_indexer,col_indexer] = value instead\n",
            "\n",
            "See the caveats in the documentation: https://pandas.pydata.org/pandas-docs/stable/user_guide/indexing.html#returning-a-view-versus-a-copy\n",
            "  This is separate from the ipykernel package so we can avoid doing imports until\n"
          ]
        }
      ]
    },
    {
      "cell_type": "markdown",
      "source": [
        "Visualizar los tipo de datos a los que pertenece cada columna (.info())"
      ],
      "metadata": {
        "id": "LPSZ0Q2opgPE"
      }
    },
    {
      "cell_type": "markdown",
      "source": [
        "*Es necesario tener un detalle de cuantas variables están considerando y el tipo de datos que pertenecen para verificar si es posible utilizarla directamente para el modelo predictivo o si es necesario realizar una transformación del tipo de dato.*\n"
      ],
      "metadata": {
        "id": "Gdrmlh8pd6cn"
      }
    },
    {
      "cell_type": "code",
      "source": [
        "dataWONA.info()"
      ],
      "metadata": {
        "id": "VIYzcn74ck71",
        "outputId": "9d367bbd-d257-45d5-b97e-d8b74c5c0e4e",
        "colab": {
          "base_uri": "https://localhost:8080/"
        }
      },
      "execution_count": 37,
      "outputs": [
        {
          "output_type": "stream",
          "name": "stdout",
          "text": [
            "<class 'pandas.core.frame.DataFrame'>\n",
            "Int64Index: 1098203 entries, 0 to 1098203\n",
            "Data columns (total 6 columns):\n",
            " #   Column          Non-Null Count    Dtype  \n",
            "---  ------          --------------    -----  \n",
            " 0   user            1098203 non-null  int64  \n",
            " 1   activity        1098203 non-null  object \n",
            " 2   timestamp       1098203 non-null  int64  \n",
            " 3   x-acceleration  1098203 non-null  float64\n",
            " 4   y-accel         1098203 non-null  float64\n",
            " 5   z-accel         1098203 non-null  object \n",
            "dtypes: float64(2), int64(2), object(2)\n",
            "memory usage: 58.7+ MB\n"
          ]
        }
      ]
    },
    {
      "cell_type": "markdown",
      "source": [
        "Cambiar el tipo de datos de las variables predictoras a valores reales, para realizar la clasificación "
      ],
      "metadata": {
        "id": "qdcCm83JscaS"
      }
    },
    {
      "cell_type": "markdown",
      "source": [
        "*Muchas de las variables contenidas en el DataFrame originalmente se encuentran en el tipo de dato 'object'. En ese formato las variables no pueden ser interpretadas como vectores. Recordemos que la mayoría de los modelos de Machine Learning estudiados operan en el espacio vectorial. Por esta razón las variables que formarán parte del modelo predictivo deben ser transformadas a un formato numérico como 'Float' o 'integer'.*\n",
        "\n",
        "Para este proyecto en particular se pide transformar  al tipo de dato Float, las variables del acelerómetro en el eje $x$, $y$ y $z$\n",
        "\n"
      ],
      "metadata": {
        "id": "ipuDtqTRdCdJ"
      }
    },
    {
      "cell_type": "code",
      "source": [
        "#Finalmente, ya podemos cambiar el tipado de la columna, y aprovechamos de pasar la otra columna tipo object (activity) por category\n",
        "dataWONA['z-accel'] = dataWONA['z-accel'].astype(str).astype(float)\n",
        "dataWONA.loc[:, (\"activity\")] = pd.Categorical(dataWONA.loc[:, (\"activity\")])"
      ],
      "metadata": {
        "id": "Pbv3aPPCYtjn",
        "outputId": "f47d8b8f-1d25-43c2-e0ac-b2dc884bbb94",
        "colab": {
          "base_uri": "https://localhost:8080/"
        }
      },
      "execution_count": 38,
      "outputs": [
        {
          "output_type": "stream",
          "name": "stderr",
          "text": [
            "/usr/local/lib/python3.7/dist-packages/ipykernel_launcher.py:2: SettingWithCopyWarning: \n",
            "A value is trying to be set on a copy of a slice from a DataFrame.\n",
            "Try using .loc[row_indexer,col_indexer] = value instead\n",
            "\n",
            "See the caveats in the documentation: https://pandas.pydata.org/pandas-docs/stable/user_guide/indexing.html#returning-a-view-versus-a-copy\n",
            "  \n",
            "/usr/local/lib/python3.7/dist-packages/pandas/core/indexing.py:1773: SettingWithCopyWarning: \n",
            "A value is trying to be set on a copy of a slice from a DataFrame.\n",
            "Try using .loc[row_indexer,col_indexer] = value instead\n",
            "\n",
            "See the caveats in the documentation: https://pandas.pydata.org/pandas-docs/stable/user_guide/indexing.html#returning-a-view-versus-a-copy\n",
            "  self._setitem_single_column(ilocs[0], value, pi)\n"
          ]
        }
      ]
    },
    {
      "cell_type": "markdown",
      "source": [
        "Imprimir los tipos de datos de las variables del DataFrame"
      ],
      "metadata": {
        "id": "bysEjuHzfplV"
      }
    },
    {
      "cell_type": "markdown",
      "source": [
        "*Se recomienda volver a ejecutar el comando info para verificar que efectivamente las variables cambiaron su tipo de dato y que ahora se pueden procesar con los modelos predictivos.*\n"
      ],
      "metadata": {
        "id": "4b8SkBblsibw"
      }
    },
    {
      "cell_type": "code",
      "source": [
        "dataWONA.info()"
      ],
      "metadata": {
        "colab": {
          "base_uri": "https://localhost:8080/"
        },
        "id": "iFg21lA8Y6uQ",
        "outputId": "a20cf451-1520-471c-964e-d0106489be16"
      },
      "execution_count": 39,
      "outputs": [
        {
          "output_type": "stream",
          "name": "stdout",
          "text": [
            "<class 'pandas.core.frame.DataFrame'>\n",
            "Int64Index: 1098203 entries, 0 to 1098203\n",
            "Data columns (total 6 columns):\n",
            " #   Column          Non-Null Count    Dtype   \n",
            "---  ------          --------------    -----   \n",
            " 0   user            1098203 non-null  int64   \n",
            " 1   activity        1098203 non-null  category\n",
            " 2   timestamp       1098203 non-null  int64   \n",
            " 3   x-acceleration  1098203 non-null  float64 \n",
            " 4   y-accel         1098203 non-null  float64 \n",
            " 5   z-accel         1098203 non-null  float64 \n",
            "dtypes: category(1), float64(3), int64(2)\n",
            "memory usage: 51.3 MB\n"
          ]
        }
      ]
    },
    {
      "cell_type": "markdown",
      "source": [
        "Eliminar las columnas que no se utilizaran para la clasificación"
      ],
      "metadata": {
        "id": "JwYw2AFItRA7"
      }
    },
    {
      "cell_type": "markdown",
      "source": [
        "*En este caso deberíamos conservar la actividad respectiva y las variables asociadas al acelerómetro*\n"
      ],
      "metadata": {
        "id": "l5f6m2ybf6TI"
      }
    },
    {
      "cell_type": "code",
      "source": [
        "#Eliminamos la columna user y time, ya que no es relevante en este caso de estudio.\n",
        "dataWONA = dataWONA.drop(dataWONA.columns[[0]], axis=1)\n",
        "dataWONA = dataWONA.drop(dataWONA.columns[[1]], axis=1)"
      ],
      "metadata": {
        "id": "EYSE59VxaIuM"
      },
      "execution_count": 40,
      "outputs": []
    },
    {
      "cell_type": "markdown",
      "source": [
        "Utilizar el comando *value_counts* para obtener un detalle de cuantas instancias se tienen por actividad. El objetivo consiste en identificar la presencia del balance o desbalance en las categorías a modelar\n"
      ],
      "metadata": {
        "id": "JTZlcpNpsokk"
      }
    },
    {
      "cell_type": "code",
      "source": [
        "dataWONA.value_counts()"
      ],
      "metadata": {
        "colab": {
          "base_uri": "https://localhost:8080/"
        },
        "id": "Pamu19LkYc3h",
        "outputId": "609551b1-3f41-4d12-81c0-f101b1d19721"
      },
      "execution_count": 41,
      "outputs": [
        {
          "output_type": "execute_result",
          "data": {
            "text/plain": [
              "activity    x-acceleration  y-accel  z-accel  \n",
              "Jogging     -0.00           0.00     -0.000000    11842\n",
              "Walking     -0.00           0.00     -0.000000      491\n",
              "Upstairs    -0.00           0.00     -0.000000      271\n",
              "Downstairs  -0.00           0.00     -0.000000      233\n",
              "Sitting      5.48           2.56      8.240000      153\n",
              "                                                  ...  \n",
              "Jogging      6.28           1.99     -3.214402        1\n",
              "                                      1.184970        1\n",
              "                            2.11     -3.677494        1\n",
              "                            2.18     -6.550000        1\n",
              "Walking      19.91          19.23    -4.290000        1\n",
              "Length: 979745, dtype: int64"
            ]
          },
          "metadata": {},
          "execution_count": 41
        }
      ]
    },
    {
      "cell_type": "markdown",
      "source": [
        "Este proyecto considera datos con un desbalance de clases. Es necesario balancearlos para que los modelos operen de manera adecuada. Existen muchas maneras de realizar un balance, pero en este proyecto utilizaremos una estrategia sencilla e intuitiva. Simplemente debe identificar la actividad que contenga el número menor de instancias. Se debe realizar un muestreo para las otras actividades utilizando ese valor. De esta manera todas las clases tendrán la misma cantidad de instancias. \n",
        "\n"
      ],
      "metadata": {
        "id": "AKQbyMqtg4eZ"
      }
    },
    {
      "cell_type": "code",
      "source": [
        "#Obtenemos una muestra aleatoria de tamaño igual a la cantidad de menor de instancias\n",
        "sampleData = dataWONA.sample(n = 3555)\n",
        "sampleData"
      ],
      "metadata": {
        "id": "7eEhSD4LhaVK",
        "outputId": "263782c2-0d7c-4723-d573-39883b2fe852",
        "colab": {
          "base_uri": "https://localhost:8080/",
          "height": 424
        }
      },
      "execution_count": 42,
      "outputs": [
        {
          "output_type": "execute_result",
          "data": {
            "text/plain": [
              "          activity  x-acceleration  y-accel   z-accel\n",
              "776037  Downstairs            4.33     6.59  1.330000\n",
              "77093      Jogging           18.70    19.57 -0.422231\n",
              "751230     Walking           -1.08    12.91 -6.700000\n",
              "834248     Walking            1.31    11.11 -2.640000\n",
              "153551     Walking           14.71     8.69  1.607201\n",
              "...            ...             ...      ...       ...\n",
              "723199     Jogging            8.54    10.84  1.990000\n",
              "442254     Walking            2.30     8.85  0.694638\n",
              "728470     Walking           -8.01    15.55  1.040000\n",
              "698099     Walking            8.08    -2.75 -6.130000\n",
              "840645     Jogging           -4.75    -7.40 -5.520000\n",
              "\n",
              "[3555 rows x 4 columns]"
            ],
            "text/html": [
              "\n",
              "  <div id=\"df-7c73ee15-b79c-472c-b0f7-a2b197d99b79\">\n",
              "    <div class=\"colab-df-container\">\n",
              "      <div>\n",
              "<style scoped>\n",
              "    .dataframe tbody tr th:only-of-type {\n",
              "        vertical-align: middle;\n",
              "    }\n",
              "\n",
              "    .dataframe tbody tr th {\n",
              "        vertical-align: top;\n",
              "    }\n",
              "\n",
              "    .dataframe thead th {\n",
              "        text-align: right;\n",
              "    }\n",
              "</style>\n",
              "<table border=\"1\" class=\"dataframe\">\n",
              "  <thead>\n",
              "    <tr style=\"text-align: right;\">\n",
              "      <th></th>\n",
              "      <th>activity</th>\n",
              "      <th>x-acceleration</th>\n",
              "      <th>y-accel</th>\n",
              "      <th>z-accel</th>\n",
              "    </tr>\n",
              "  </thead>\n",
              "  <tbody>\n",
              "    <tr>\n",
              "      <th>776037</th>\n",
              "      <td>Downstairs</td>\n",
              "      <td>4.33</td>\n",
              "      <td>6.59</td>\n",
              "      <td>1.330000</td>\n",
              "    </tr>\n",
              "    <tr>\n",
              "      <th>77093</th>\n",
              "      <td>Jogging</td>\n",
              "      <td>18.70</td>\n",
              "      <td>19.57</td>\n",
              "      <td>-0.422231</td>\n",
              "    </tr>\n",
              "    <tr>\n",
              "      <th>751230</th>\n",
              "      <td>Walking</td>\n",
              "      <td>-1.08</td>\n",
              "      <td>12.91</td>\n",
              "      <td>-6.700000</td>\n",
              "    </tr>\n",
              "    <tr>\n",
              "      <th>834248</th>\n",
              "      <td>Walking</td>\n",
              "      <td>1.31</td>\n",
              "      <td>11.11</td>\n",
              "      <td>-2.640000</td>\n",
              "    </tr>\n",
              "    <tr>\n",
              "      <th>153551</th>\n",
              "      <td>Walking</td>\n",
              "      <td>14.71</td>\n",
              "      <td>8.69</td>\n",
              "      <td>1.607201</td>\n",
              "    </tr>\n",
              "    <tr>\n",
              "      <th>...</th>\n",
              "      <td>...</td>\n",
              "      <td>...</td>\n",
              "      <td>...</td>\n",
              "      <td>...</td>\n",
              "    </tr>\n",
              "    <tr>\n",
              "      <th>723199</th>\n",
              "      <td>Jogging</td>\n",
              "      <td>8.54</td>\n",
              "      <td>10.84</td>\n",
              "      <td>1.990000</td>\n",
              "    </tr>\n",
              "    <tr>\n",
              "      <th>442254</th>\n",
              "      <td>Walking</td>\n",
              "      <td>2.30</td>\n",
              "      <td>8.85</td>\n",
              "      <td>0.694638</td>\n",
              "    </tr>\n",
              "    <tr>\n",
              "      <th>728470</th>\n",
              "      <td>Walking</td>\n",
              "      <td>-8.01</td>\n",
              "      <td>15.55</td>\n",
              "      <td>1.040000</td>\n",
              "    </tr>\n",
              "    <tr>\n",
              "      <th>698099</th>\n",
              "      <td>Walking</td>\n",
              "      <td>8.08</td>\n",
              "      <td>-2.75</td>\n",
              "      <td>-6.130000</td>\n",
              "    </tr>\n",
              "    <tr>\n",
              "      <th>840645</th>\n",
              "      <td>Jogging</td>\n",
              "      <td>-4.75</td>\n",
              "      <td>-7.40</td>\n",
              "      <td>-5.520000</td>\n",
              "    </tr>\n",
              "  </tbody>\n",
              "</table>\n",
              "<p>3555 rows × 4 columns</p>\n",
              "</div>\n",
              "      <button class=\"colab-df-convert\" onclick=\"convertToInteractive('df-7c73ee15-b79c-472c-b0f7-a2b197d99b79')\"\n",
              "              title=\"Convert this dataframe to an interactive table.\"\n",
              "              style=\"display:none;\">\n",
              "        \n",
              "  <svg xmlns=\"http://www.w3.org/2000/svg\" height=\"24px\"viewBox=\"0 0 24 24\"\n",
              "       width=\"24px\">\n",
              "    <path d=\"M0 0h24v24H0V0z\" fill=\"none\"/>\n",
              "    <path d=\"M18.56 5.44l.94 2.06.94-2.06 2.06-.94-2.06-.94-.94-2.06-.94 2.06-2.06.94zm-11 1L8.5 8.5l.94-2.06 2.06-.94-2.06-.94L8.5 2.5l-.94 2.06-2.06.94zm10 10l.94 2.06.94-2.06 2.06-.94-2.06-.94-.94-2.06-.94 2.06-2.06.94z\"/><path d=\"M17.41 7.96l-1.37-1.37c-.4-.4-.92-.59-1.43-.59-.52 0-1.04.2-1.43.59L10.3 9.45l-7.72 7.72c-.78.78-.78 2.05 0 2.83L4 21.41c.39.39.9.59 1.41.59.51 0 1.02-.2 1.41-.59l7.78-7.78 2.81-2.81c.8-.78.8-2.07 0-2.86zM5.41 20L4 18.59l7.72-7.72 1.47 1.35L5.41 20z\"/>\n",
              "  </svg>\n",
              "      </button>\n",
              "      \n",
              "  <style>\n",
              "    .colab-df-container {\n",
              "      display:flex;\n",
              "      flex-wrap:wrap;\n",
              "      gap: 12px;\n",
              "    }\n",
              "\n",
              "    .colab-df-convert {\n",
              "      background-color: #E8F0FE;\n",
              "      border: none;\n",
              "      border-radius: 50%;\n",
              "      cursor: pointer;\n",
              "      display: none;\n",
              "      fill: #1967D2;\n",
              "      height: 32px;\n",
              "      padding: 0 0 0 0;\n",
              "      width: 32px;\n",
              "    }\n",
              "\n",
              "    .colab-df-convert:hover {\n",
              "      background-color: #E2EBFA;\n",
              "      box-shadow: 0px 1px 2px rgba(60, 64, 67, 0.3), 0px 1px 3px 1px rgba(60, 64, 67, 0.15);\n",
              "      fill: #174EA6;\n",
              "    }\n",
              "\n",
              "    [theme=dark] .colab-df-convert {\n",
              "      background-color: #3B4455;\n",
              "      fill: #D2E3FC;\n",
              "    }\n",
              "\n",
              "    [theme=dark] .colab-df-convert:hover {\n",
              "      background-color: #434B5C;\n",
              "      box-shadow: 0px 1px 3px 1px rgba(0, 0, 0, 0.15);\n",
              "      filter: drop-shadow(0px 1px 2px rgba(0, 0, 0, 0.3));\n",
              "      fill: #FFFFFF;\n",
              "    }\n",
              "  </style>\n",
              "\n",
              "      <script>\n",
              "        const buttonEl =\n",
              "          document.querySelector('#df-7c73ee15-b79c-472c-b0f7-a2b197d99b79 button.colab-df-convert');\n",
              "        buttonEl.style.display =\n",
              "          google.colab.kernel.accessAllowed ? 'block' : 'none';\n",
              "\n",
              "        async function convertToInteractive(key) {\n",
              "          const element = document.querySelector('#df-7c73ee15-b79c-472c-b0f7-a2b197d99b79');\n",
              "          const dataTable =\n",
              "            await google.colab.kernel.invokeFunction('convertToInteractive',\n",
              "                                                     [key], {});\n",
              "          if (!dataTable) return;\n",
              "\n",
              "          const docLinkHtml = 'Like what you see? Visit the ' +\n",
              "            '<a target=\"_blank\" href=https://colab.research.google.com/notebooks/data_table.ipynb>data table notebook</a>'\n",
              "            + ' to learn more about interactive tables.';\n",
              "          element.innerHTML = '';\n",
              "          dataTable['output_type'] = 'display_data';\n",
              "          await google.colab.output.renderOutput(dataTable, element);\n",
              "          const docLink = document.createElement('div');\n",
              "          docLink.innerHTML = docLinkHtml;\n",
              "          element.appendChild(docLink);\n",
              "        }\n",
              "      </script>\n",
              "    </div>\n",
              "  </div>\n",
              "  "
            ]
          },
          "metadata": {},
          "execution_count": 42
        }
      ]
    },
    {
      "cell_type": "markdown",
      "source": [
        "Establecer el número de instancias y dimensiones del data frame resultante *(shape)*\n"
      ],
      "metadata": {
        "id": "e9g4bruQha3L"
      }
    },
    {
      "cell_type": "code",
      "source": [
        "sampleData.shape"
      ],
      "metadata": {
        "colab": {
          "base_uri": "https://localhost:8080/"
        },
        "id": "auE8LmO4aBYY",
        "outputId": "6f28d222-fe4f-4cd9-dfaa-6b5297ceeee8"
      },
      "execution_count": 43,
      "outputs": [
        {
          "output_type": "execute_result",
          "data": {
            "text/plain": [
              "(3555, 4)"
            ]
          },
          "metadata": {},
          "execution_count": 43
        }
      ]
    },
    {
      "cell_type": "markdown",
      "source": [
        "Volver a imprimir la cantidad de instancias por categoría para verificar que todo esté en orden. *(value_counts)*"
      ],
      "metadata": {
        "id": "HQoPlP_Ptk4t"
      }
    },
    {
      "cell_type": "code",
      "source": [
        "sampleData.value_counts()"
      ],
      "metadata": {
        "colab": {
          "base_uri": "https://localhost:8080/"
        },
        "id": "o0LWa6K5aNKg",
        "outputId": "51033e81-fee5-47cc-bd1e-10d212c68390"
      },
      "execution_count": 44,
      "outputs": [
        {
          "output_type": "execute_result",
          "data": {
            "text/plain": [
              "activity  x-acceleration  y-accel  z-accel  \n",
              "Jogging   0.00             0.00     0.000000    39\n",
              "Sitting   8.96            -0.80     2.300000     3\n",
              "          5.86             2.41     7.780000     2\n",
              "          7.55             2.30     6.440000     2\n",
              "Standing  0.99             9.92     0.340000     2\n",
              "                                                ..\n",
              "Jogging   6.55             19.31   -6.360000     1\n",
              "                           19.57   -5.856750     1\n",
              "          6.59            -1.53     4.562817     1\n",
              "          6.63             19.57    4.985047     1\n",
              "Walking   19.89            3.06     2.340000     1\n",
              "Length: 3506, dtype: int64"
            ]
          },
          "metadata": {},
          "execution_count": 44
        }
      ]
    },
    {
      "cell_type": "markdown",
      "source": [
        "Volver a visualizar las cinco primeras líneas del DataFrame para revisar que todo esté en orden *(head)*\n"
      ],
      "metadata": {
        "id": "INea3Vhah4Zq"
      }
    },
    {
      "cell_type": "code",
      "source": [
        "sampleData.head()"
      ],
      "metadata": {
        "colab": {
          "base_uri": "https://localhost:8080/",
          "height": 206
        },
        "id": "vQ1qF5mDaP8o",
        "outputId": "d241a0c5-ec3c-4ce4-8ed3-c53176337605"
      },
      "execution_count": 45,
      "outputs": [
        {
          "output_type": "execute_result",
          "data": {
            "text/plain": [
              "          activity  x-acceleration  y-accel   z-accel\n",
              "776037  Downstairs            4.33     6.59  1.330000\n",
              "77093      Jogging           18.70    19.57 -0.422231\n",
              "751230     Walking           -1.08    12.91 -6.700000\n",
              "834248     Walking            1.31    11.11 -2.640000\n",
              "153551     Walking           14.71     8.69  1.607201"
            ],
            "text/html": [
              "\n",
              "  <div id=\"df-4f53e013-369b-49d1-91ed-964db56382ca\">\n",
              "    <div class=\"colab-df-container\">\n",
              "      <div>\n",
              "<style scoped>\n",
              "    .dataframe tbody tr th:only-of-type {\n",
              "        vertical-align: middle;\n",
              "    }\n",
              "\n",
              "    .dataframe tbody tr th {\n",
              "        vertical-align: top;\n",
              "    }\n",
              "\n",
              "    .dataframe thead th {\n",
              "        text-align: right;\n",
              "    }\n",
              "</style>\n",
              "<table border=\"1\" class=\"dataframe\">\n",
              "  <thead>\n",
              "    <tr style=\"text-align: right;\">\n",
              "      <th></th>\n",
              "      <th>activity</th>\n",
              "      <th>x-acceleration</th>\n",
              "      <th>y-accel</th>\n",
              "      <th>z-accel</th>\n",
              "    </tr>\n",
              "  </thead>\n",
              "  <tbody>\n",
              "    <tr>\n",
              "      <th>776037</th>\n",
              "      <td>Downstairs</td>\n",
              "      <td>4.33</td>\n",
              "      <td>6.59</td>\n",
              "      <td>1.330000</td>\n",
              "    </tr>\n",
              "    <tr>\n",
              "      <th>77093</th>\n",
              "      <td>Jogging</td>\n",
              "      <td>18.70</td>\n",
              "      <td>19.57</td>\n",
              "      <td>-0.422231</td>\n",
              "    </tr>\n",
              "    <tr>\n",
              "      <th>751230</th>\n",
              "      <td>Walking</td>\n",
              "      <td>-1.08</td>\n",
              "      <td>12.91</td>\n",
              "      <td>-6.700000</td>\n",
              "    </tr>\n",
              "    <tr>\n",
              "      <th>834248</th>\n",
              "      <td>Walking</td>\n",
              "      <td>1.31</td>\n",
              "      <td>11.11</td>\n",
              "      <td>-2.640000</td>\n",
              "    </tr>\n",
              "    <tr>\n",
              "      <th>153551</th>\n",
              "      <td>Walking</td>\n",
              "      <td>14.71</td>\n",
              "      <td>8.69</td>\n",
              "      <td>1.607201</td>\n",
              "    </tr>\n",
              "  </tbody>\n",
              "</table>\n",
              "</div>\n",
              "      <button class=\"colab-df-convert\" onclick=\"convertToInteractive('df-4f53e013-369b-49d1-91ed-964db56382ca')\"\n",
              "              title=\"Convert this dataframe to an interactive table.\"\n",
              "              style=\"display:none;\">\n",
              "        \n",
              "  <svg xmlns=\"http://www.w3.org/2000/svg\" height=\"24px\"viewBox=\"0 0 24 24\"\n",
              "       width=\"24px\">\n",
              "    <path d=\"M0 0h24v24H0V0z\" fill=\"none\"/>\n",
              "    <path d=\"M18.56 5.44l.94 2.06.94-2.06 2.06-.94-2.06-.94-.94-2.06-.94 2.06-2.06.94zm-11 1L8.5 8.5l.94-2.06 2.06-.94-2.06-.94L8.5 2.5l-.94 2.06-2.06.94zm10 10l.94 2.06.94-2.06 2.06-.94-2.06-.94-.94-2.06-.94 2.06-2.06.94z\"/><path d=\"M17.41 7.96l-1.37-1.37c-.4-.4-.92-.59-1.43-.59-.52 0-1.04.2-1.43.59L10.3 9.45l-7.72 7.72c-.78.78-.78 2.05 0 2.83L4 21.41c.39.39.9.59 1.41.59.51 0 1.02-.2 1.41-.59l7.78-7.78 2.81-2.81c.8-.78.8-2.07 0-2.86zM5.41 20L4 18.59l7.72-7.72 1.47 1.35L5.41 20z\"/>\n",
              "  </svg>\n",
              "      </button>\n",
              "      \n",
              "  <style>\n",
              "    .colab-df-container {\n",
              "      display:flex;\n",
              "      flex-wrap:wrap;\n",
              "      gap: 12px;\n",
              "    }\n",
              "\n",
              "    .colab-df-convert {\n",
              "      background-color: #E8F0FE;\n",
              "      border: none;\n",
              "      border-radius: 50%;\n",
              "      cursor: pointer;\n",
              "      display: none;\n",
              "      fill: #1967D2;\n",
              "      height: 32px;\n",
              "      padding: 0 0 0 0;\n",
              "      width: 32px;\n",
              "    }\n",
              "\n",
              "    .colab-df-convert:hover {\n",
              "      background-color: #E2EBFA;\n",
              "      box-shadow: 0px 1px 2px rgba(60, 64, 67, 0.3), 0px 1px 3px 1px rgba(60, 64, 67, 0.15);\n",
              "      fill: #174EA6;\n",
              "    }\n",
              "\n",
              "    [theme=dark] .colab-df-convert {\n",
              "      background-color: #3B4455;\n",
              "      fill: #D2E3FC;\n",
              "    }\n",
              "\n",
              "    [theme=dark] .colab-df-convert:hover {\n",
              "      background-color: #434B5C;\n",
              "      box-shadow: 0px 1px 3px 1px rgba(0, 0, 0, 0.15);\n",
              "      filter: drop-shadow(0px 1px 2px rgba(0, 0, 0, 0.3));\n",
              "      fill: #FFFFFF;\n",
              "    }\n",
              "  </style>\n",
              "\n",
              "      <script>\n",
              "        const buttonEl =\n",
              "          document.querySelector('#df-4f53e013-369b-49d1-91ed-964db56382ca button.colab-df-convert');\n",
              "        buttonEl.style.display =\n",
              "          google.colab.kernel.accessAllowed ? 'block' : 'none';\n",
              "\n",
              "        async function convertToInteractive(key) {\n",
              "          const element = document.querySelector('#df-4f53e013-369b-49d1-91ed-964db56382ca');\n",
              "          const dataTable =\n",
              "            await google.colab.kernel.invokeFunction('convertToInteractive',\n",
              "                                                     [key], {});\n",
              "          if (!dataTable) return;\n",
              "\n",
              "          const docLinkHtml = 'Like what you see? Visit the ' +\n",
              "            '<a target=\"_blank\" href=https://colab.research.google.com/notebooks/data_table.ipynb>data table notebook</a>'\n",
              "            + ' to learn more about interactive tables.';\n",
              "          element.innerHTML = '';\n",
              "          dataTable['output_type'] = 'display_data';\n",
              "          await google.colab.output.renderOutput(dataTable, element);\n",
              "          const docLink = document.createElement('div');\n",
              "          docLink.innerHTML = docLinkHtml;\n",
              "          element.appendChild(docLink);\n",
              "        }\n",
              "      </script>\n",
              "    </div>\n",
              "  </div>\n",
              "  "
            ]
          },
          "metadata": {},
          "execution_count": 45
        }
      ]
    },
    {
      "cell_type": "markdown",
      "source": [
        "Separar las variables predictoras (X) de las ctegorias o etiquetas (y)"
      ],
      "metadata": {
        "id": "Jqcw16VquzrB"
      }
    },
    {
      "cell_type": "code",
      "source": [
        "from sklearn.model_selection import train_test_split\n",
        "#Una vez normalizado podemos dividir el dataset en 2.\n",
        "#Primero, dividimos del dataset en columnas independientes y dependientes (\"operadoras\" y \"resultado\").\n",
        "X = sampleData.iloc[:, 1:4]\n",
        "y = sampleData.iloc[:, 0]"
      ],
      "metadata": {
        "id": "bo_1huJUaa2w"
      },
      "execution_count": 46,
      "outputs": []
    },
    {
      "cell_type": "markdown",
      "source": [
        "Estandarizar los datos numericos (*StandardScaler)*"
      ],
      "metadata": {
        "id": "pj6Wwp3uvKJ-"
      }
    },
    {
      "cell_type": "markdown",
      "source": [
        "*Para el caso de la estandarización de los datos se pueden usar distintas técnicas, como la normalización 01, estandarización entre -1 y 1 o el denominado Z-Score. En este caso usaremos la función Standard Scaler de Python con sus valores por defecto.*\n"
      ],
      "metadata": {
        "id": "Mbl2LcmTkZ9p"
      }
    },
    {
      "cell_type": "code",
      "source": [
        "from sklearn.preprocessing import StandardScaler\n",
        "ss= StandardScaler()\n",
        "X = ss.fit_transform(X)"
      ],
      "metadata": {
        "id": "8ApXgZcha1Hc"
      },
      "execution_count": 47,
      "outputs": []
    },
    {
      "cell_type": "markdown",
      "source": [
        "Como último paso debe reconstruir el dataframe pegando las columnas de los variables predicadores (X) y las categorías (y)\n"
      ],
      "metadata": {
        "id": "P8mGGNQ9j3Fy"
      }
    },
    {
      "cell_type": "code",
      "source": [
        "df = pd.DataFrame(X)\n",
        "df[\"activity\"] = y.tolist()\n",
        "df.columns =['x', 'y', 'z', 'activity']\n",
        "df"
      ],
      "metadata": {
        "id": "N_UC5HyIOelQ",
        "outputId": "755257f3-0c5f-432e-bcda-a53f973270ef",
        "colab": {
          "base_uri": "https://localhost:8080/",
          "height": 424
        }
      },
      "execution_count": 48,
      "outputs": [
        {
          "output_type": "execute_result",
          "data": {
            "text/plain": [
              "             x         y         z    activity\n",
              "0     0.553156 -0.083237  0.184488  Downstairs\n",
              "1     2.619371  1.824086 -0.183635     Jogging\n",
              "2    -0.224730  0.845444 -1.502520     Walking\n",
              "3     0.118920  0.580946 -0.649562     Walking\n",
              "4     2.045662  0.225344  0.242724     Walking\n",
              "...        ...       ...       ...         ...\n",
              "3550  1.158498  0.541271  0.323146     Jogging\n",
              "3551  0.261269  0.248854  0.051006     Walking\n",
              "3552 -1.221172  1.233374  0.123562     Walking\n",
              "3553  1.092356 -1.455687 -1.382770     Walking\n",
              "3554 -0.752427 -2.138973 -1.254616     Jogging\n",
              "\n",
              "[3555 rows x 4 columns]"
            ],
            "text/html": [
              "\n",
              "  <div id=\"df-acd463ec-9d84-4574-b03f-853c4850e971\">\n",
              "    <div class=\"colab-df-container\">\n",
              "      <div>\n",
              "<style scoped>\n",
              "    .dataframe tbody tr th:only-of-type {\n",
              "        vertical-align: middle;\n",
              "    }\n",
              "\n",
              "    .dataframe tbody tr th {\n",
              "        vertical-align: top;\n",
              "    }\n",
              "\n",
              "    .dataframe thead th {\n",
              "        text-align: right;\n",
              "    }\n",
              "</style>\n",
              "<table border=\"1\" class=\"dataframe\">\n",
              "  <thead>\n",
              "    <tr style=\"text-align: right;\">\n",
              "      <th></th>\n",
              "      <th>x</th>\n",
              "      <th>y</th>\n",
              "      <th>z</th>\n",
              "      <th>activity</th>\n",
              "    </tr>\n",
              "  </thead>\n",
              "  <tbody>\n",
              "    <tr>\n",
              "      <th>0</th>\n",
              "      <td>0.553156</td>\n",
              "      <td>-0.083237</td>\n",
              "      <td>0.184488</td>\n",
              "      <td>Downstairs</td>\n",
              "    </tr>\n",
              "    <tr>\n",
              "      <th>1</th>\n",
              "      <td>2.619371</td>\n",
              "      <td>1.824086</td>\n",
              "      <td>-0.183635</td>\n",
              "      <td>Jogging</td>\n",
              "    </tr>\n",
              "    <tr>\n",
              "      <th>2</th>\n",
              "      <td>-0.224730</td>\n",
              "      <td>0.845444</td>\n",
              "      <td>-1.502520</td>\n",
              "      <td>Walking</td>\n",
              "    </tr>\n",
              "    <tr>\n",
              "      <th>3</th>\n",
              "      <td>0.118920</td>\n",
              "      <td>0.580946</td>\n",
              "      <td>-0.649562</td>\n",
              "      <td>Walking</td>\n",
              "    </tr>\n",
              "    <tr>\n",
              "      <th>4</th>\n",
              "      <td>2.045662</td>\n",
              "      <td>0.225344</td>\n",
              "      <td>0.242724</td>\n",
              "      <td>Walking</td>\n",
              "    </tr>\n",
              "    <tr>\n",
              "      <th>...</th>\n",
              "      <td>...</td>\n",
              "      <td>...</td>\n",
              "      <td>...</td>\n",
              "      <td>...</td>\n",
              "    </tr>\n",
              "    <tr>\n",
              "      <th>3550</th>\n",
              "      <td>1.158498</td>\n",
              "      <td>0.541271</td>\n",
              "      <td>0.323146</td>\n",
              "      <td>Jogging</td>\n",
              "    </tr>\n",
              "    <tr>\n",
              "      <th>3551</th>\n",
              "      <td>0.261269</td>\n",
              "      <td>0.248854</td>\n",
              "      <td>0.051006</td>\n",
              "      <td>Walking</td>\n",
              "    </tr>\n",
              "    <tr>\n",
              "      <th>3552</th>\n",
              "      <td>-1.221172</td>\n",
              "      <td>1.233374</td>\n",
              "      <td>0.123562</td>\n",
              "      <td>Walking</td>\n",
              "    </tr>\n",
              "    <tr>\n",
              "      <th>3553</th>\n",
              "      <td>1.092356</td>\n",
              "      <td>-1.455687</td>\n",
              "      <td>-1.382770</td>\n",
              "      <td>Walking</td>\n",
              "    </tr>\n",
              "    <tr>\n",
              "      <th>3554</th>\n",
              "      <td>-0.752427</td>\n",
              "      <td>-2.138973</td>\n",
              "      <td>-1.254616</td>\n",
              "      <td>Jogging</td>\n",
              "    </tr>\n",
              "  </tbody>\n",
              "</table>\n",
              "<p>3555 rows × 4 columns</p>\n",
              "</div>\n",
              "      <button class=\"colab-df-convert\" onclick=\"convertToInteractive('df-acd463ec-9d84-4574-b03f-853c4850e971')\"\n",
              "              title=\"Convert this dataframe to an interactive table.\"\n",
              "              style=\"display:none;\">\n",
              "        \n",
              "  <svg xmlns=\"http://www.w3.org/2000/svg\" height=\"24px\"viewBox=\"0 0 24 24\"\n",
              "       width=\"24px\">\n",
              "    <path d=\"M0 0h24v24H0V0z\" fill=\"none\"/>\n",
              "    <path d=\"M18.56 5.44l.94 2.06.94-2.06 2.06-.94-2.06-.94-.94-2.06-.94 2.06-2.06.94zm-11 1L8.5 8.5l.94-2.06 2.06-.94-2.06-.94L8.5 2.5l-.94 2.06-2.06.94zm10 10l.94 2.06.94-2.06 2.06-.94-2.06-.94-.94-2.06-.94 2.06-2.06.94z\"/><path d=\"M17.41 7.96l-1.37-1.37c-.4-.4-.92-.59-1.43-.59-.52 0-1.04.2-1.43.59L10.3 9.45l-7.72 7.72c-.78.78-.78 2.05 0 2.83L4 21.41c.39.39.9.59 1.41.59.51 0 1.02-.2 1.41-.59l7.78-7.78 2.81-2.81c.8-.78.8-2.07 0-2.86zM5.41 20L4 18.59l7.72-7.72 1.47 1.35L5.41 20z\"/>\n",
              "  </svg>\n",
              "      </button>\n",
              "      \n",
              "  <style>\n",
              "    .colab-df-container {\n",
              "      display:flex;\n",
              "      flex-wrap:wrap;\n",
              "      gap: 12px;\n",
              "    }\n",
              "\n",
              "    .colab-df-convert {\n",
              "      background-color: #E8F0FE;\n",
              "      border: none;\n",
              "      border-radius: 50%;\n",
              "      cursor: pointer;\n",
              "      display: none;\n",
              "      fill: #1967D2;\n",
              "      height: 32px;\n",
              "      padding: 0 0 0 0;\n",
              "      width: 32px;\n",
              "    }\n",
              "\n",
              "    .colab-df-convert:hover {\n",
              "      background-color: #E2EBFA;\n",
              "      box-shadow: 0px 1px 2px rgba(60, 64, 67, 0.3), 0px 1px 3px 1px rgba(60, 64, 67, 0.15);\n",
              "      fill: #174EA6;\n",
              "    }\n",
              "\n",
              "    [theme=dark] .colab-df-convert {\n",
              "      background-color: #3B4455;\n",
              "      fill: #D2E3FC;\n",
              "    }\n",
              "\n",
              "    [theme=dark] .colab-df-convert:hover {\n",
              "      background-color: #434B5C;\n",
              "      box-shadow: 0px 1px 3px 1px rgba(0, 0, 0, 0.15);\n",
              "      filter: drop-shadow(0px 1px 2px rgba(0, 0, 0, 0.3));\n",
              "      fill: #FFFFFF;\n",
              "    }\n",
              "  </style>\n",
              "\n",
              "      <script>\n",
              "        const buttonEl =\n",
              "          document.querySelector('#df-acd463ec-9d84-4574-b03f-853c4850e971 button.colab-df-convert');\n",
              "        buttonEl.style.display =\n",
              "          google.colab.kernel.accessAllowed ? 'block' : 'none';\n",
              "\n",
              "        async function convertToInteractive(key) {\n",
              "          const element = document.querySelector('#df-acd463ec-9d84-4574-b03f-853c4850e971');\n",
              "          const dataTable =\n",
              "            await google.colab.kernel.invokeFunction('convertToInteractive',\n",
              "                                                     [key], {});\n",
              "          if (!dataTable) return;\n",
              "\n",
              "          const docLinkHtml = 'Like what you see? Visit the ' +\n",
              "            '<a target=\"_blank\" href=https://colab.research.google.com/notebooks/data_table.ipynb>data table notebook</a>'\n",
              "            + ' to learn more about interactive tables.';\n",
              "          element.innerHTML = '';\n",
              "          dataTable['output_type'] = 'display_data';\n",
              "          await google.colab.output.renderOutput(dataTable, element);\n",
              "          const docLink = document.createElement('div');\n",
              "          docLink.innerHTML = docLinkHtml;\n",
              "          element.appendChild(docLink);\n",
              "        }\n",
              "      </script>\n",
              "    </div>\n",
              "  </div>\n",
              "  "
            ]
          },
          "metadata": {},
          "execution_count": 48
        }
      ]
    }
  ]
}