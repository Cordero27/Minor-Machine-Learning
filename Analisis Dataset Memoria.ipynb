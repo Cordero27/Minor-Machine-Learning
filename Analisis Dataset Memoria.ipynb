{
  "nbformat": 4,
  "nbformat_minor": 0,
  "metadata": {
    "colab": {
      "provenance": [],
      "authorship_tag": "ABX9TyOoIdlg1gjB6gFFEYCKjjgf",
      "include_colab_link": true
    },
    "kernelspec": {
      "name": "python3",
      "display_name": "Python 3"
    },
    "language_info": {
      "name": "python"
    }
  },
  "cells": [
    {
      "cell_type": "markdown",
      "metadata": {
        "id": "view-in-github",
        "colab_type": "text"
      },
      "source": [
        "<a href=\"https://colab.research.google.com/github/Cordero27/Minor-Machine-Learning/blob/main/Analisis%20Dataset%20Memoria.ipynb\" target=\"_parent\"><img src=\"https://colab.research.google.com/assets/colab-badge.svg\" alt=\"Open In Colab\"/></a>"
      ]
    },
    {
      "cell_type": "markdown",
      "source": [
        "# Análisis de conjunto de datos preliminar para Memoria"
      ],
      "metadata": {
        "id": "wkfjGndxygIK"
      }
    },
    {
      "cell_type": "markdown",
      "source": [
        "### El Conjunto de datos a estudiar pertenece a la captura de datos de una colmena de abejas durante un año, que se realizó en la ciudad de Würzburg en 2017. Los parámetros trabajados durante el proyecto son flujo de abejas que ingresan y egresan de la colmena, humedad y temperatura interior de la colmena, y peso de esta. Las unidades de medida de estos últimos tres parámetros son porcentaje, Celcius y Kilogramos respectivamente.\n",
        "\n",
        "### Cabe destacar, que solo se usan los archivos que tienen el año 2017 en su nombre, pues los demas corresponden a un estudio de 2017-2019 que tienen un periodo no medido en el año 2018.\n",
        "\n",
        "## Para procesar este conjunto de datos se usa OSEMN."
      ],
      "metadata": {
        "id": "CAfIQn31vNpQ"
      }
    },
    {
      "cell_type": "markdown",
      "source": [
        "###Entrega 01 - OBTAIN"
      ],
      "metadata": {
        "id": "3EmT_TFWBmG4"
      }
    },
    {
      "cell_type": "code",
      "source": [
        "import numpy as np\n",
        "#Librerias a utilizar\n",
        "import pandas as pd\n",
        "\n",
        "#Fuente del dataset: https://www.kaggle.com/datasets/se18m502/bee-hive-metrics\n",
        "\n",
        "flow = pd.read_csv('https://raw.githubusercontent.com/Cordero27/Minor-Machine-Learning/main/Dataset/flow_2017.csv', on_bad_lines='skip')\n",
        "humidity = pd.read_csv('https://raw.githubusercontent.com/Cordero27/Minor-Machine-Learning/main/Dataset/humidity_2017.csv', on_bad_lines='skip')\n",
        "temperature = pd.read_csv('https://raw.githubusercontent.com/Cordero27/Minor-Machine-Learning/main/Dataset/temperature_2017.csv', on_bad_lines='skip')\n",
        "weight = pd.read_csv('https://raw.githubusercontent.com/Cordero27/Minor-Machine-Learning/main/Dataset/weight_2017.csv', on_bad_lines='skip')\n",
        "\n",
        "#Observamos el contenido adquirido del archivo del flujo\n",
        "flow.head()"
      ],
      "metadata": {
        "colab": {
          "base_uri": "https://localhost:8080/",
          "height": 206
        },
        "id": "R04-XK98wKGG",
        "outputId": "b3b8902f-f271-4572-e30b-2dcd289aab82"
      },
      "execution_count": 1,
      "outputs": [
        {
          "output_type": "execute_result",
          "data": {
            "text/plain": [
              "             timestamp  flow\n",
              "0  2017-01-01 05:15:00     0\n",
              "1  2017-01-01 05:16:00     0\n",
              "2  2017-01-01 05:17:00     0\n",
              "3  2017-01-01 05:18:00     0\n",
              "4  2017-01-01 05:19:00     0"
            ],
            "text/html": [
              "\n",
              "  <div id=\"df-104b4bca-f4aa-4d29-aa80-28ff4553f0e4\">\n",
              "    <div class=\"colab-df-container\">\n",
              "      <div>\n",
              "<style scoped>\n",
              "    .dataframe tbody tr th:only-of-type {\n",
              "        vertical-align: middle;\n",
              "    }\n",
              "\n",
              "    .dataframe tbody tr th {\n",
              "        vertical-align: top;\n",
              "    }\n",
              "\n",
              "    .dataframe thead th {\n",
              "        text-align: right;\n",
              "    }\n",
              "</style>\n",
              "<table border=\"1\" class=\"dataframe\">\n",
              "  <thead>\n",
              "    <tr style=\"text-align: right;\">\n",
              "      <th></th>\n",
              "      <th>timestamp</th>\n",
              "      <th>flow</th>\n",
              "    </tr>\n",
              "  </thead>\n",
              "  <tbody>\n",
              "    <tr>\n",
              "      <th>0</th>\n",
              "      <td>2017-01-01 05:15:00</td>\n",
              "      <td>0</td>\n",
              "    </tr>\n",
              "    <tr>\n",
              "      <th>1</th>\n",
              "      <td>2017-01-01 05:16:00</td>\n",
              "      <td>0</td>\n",
              "    </tr>\n",
              "    <tr>\n",
              "      <th>2</th>\n",
              "      <td>2017-01-01 05:17:00</td>\n",
              "      <td>0</td>\n",
              "    </tr>\n",
              "    <tr>\n",
              "      <th>3</th>\n",
              "      <td>2017-01-01 05:18:00</td>\n",
              "      <td>0</td>\n",
              "    </tr>\n",
              "    <tr>\n",
              "      <th>4</th>\n",
              "      <td>2017-01-01 05:19:00</td>\n",
              "      <td>0</td>\n",
              "    </tr>\n",
              "  </tbody>\n",
              "</table>\n",
              "</div>\n",
              "      <button class=\"colab-df-convert\" onclick=\"convertToInteractive('df-104b4bca-f4aa-4d29-aa80-28ff4553f0e4')\"\n",
              "              title=\"Convert this dataframe to an interactive table.\"\n",
              "              style=\"display:none;\">\n",
              "        \n",
              "  <svg xmlns=\"http://www.w3.org/2000/svg\" height=\"24px\"viewBox=\"0 0 24 24\"\n",
              "       width=\"24px\">\n",
              "    <path d=\"M0 0h24v24H0V0z\" fill=\"none\"/>\n",
              "    <path d=\"M18.56 5.44l.94 2.06.94-2.06 2.06-.94-2.06-.94-.94-2.06-.94 2.06-2.06.94zm-11 1L8.5 8.5l.94-2.06 2.06-.94-2.06-.94L8.5 2.5l-.94 2.06-2.06.94zm10 10l.94 2.06.94-2.06 2.06-.94-2.06-.94-.94-2.06-.94 2.06-2.06.94z\"/><path d=\"M17.41 7.96l-1.37-1.37c-.4-.4-.92-.59-1.43-.59-.52 0-1.04.2-1.43.59L10.3 9.45l-7.72 7.72c-.78.78-.78 2.05 0 2.83L4 21.41c.39.39.9.59 1.41.59.51 0 1.02-.2 1.41-.59l7.78-7.78 2.81-2.81c.8-.78.8-2.07 0-2.86zM5.41 20L4 18.59l7.72-7.72 1.47 1.35L5.41 20z\"/>\n",
              "  </svg>\n",
              "      </button>\n",
              "      \n",
              "  <style>\n",
              "    .colab-df-container {\n",
              "      display:flex;\n",
              "      flex-wrap:wrap;\n",
              "      gap: 12px;\n",
              "    }\n",
              "\n",
              "    .colab-df-convert {\n",
              "      background-color: #E8F0FE;\n",
              "      border: none;\n",
              "      border-radius: 50%;\n",
              "      cursor: pointer;\n",
              "      display: none;\n",
              "      fill: #1967D2;\n",
              "      height: 32px;\n",
              "      padding: 0 0 0 0;\n",
              "      width: 32px;\n",
              "    }\n",
              "\n",
              "    .colab-df-convert:hover {\n",
              "      background-color: #E2EBFA;\n",
              "      box-shadow: 0px 1px 2px rgba(60, 64, 67, 0.3), 0px 1px 3px 1px rgba(60, 64, 67, 0.15);\n",
              "      fill: #174EA6;\n",
              "    }\n",
              "\n",
              "    [theme=dark] .colab-df-convert {\n",
              "      background-color: #3B4455;\n",
              "      fill: #D2E3FC;\n",
              "    }\n",
              "\n",
              "    [theme=dark] .colab-df-convert:hover {\n",
              "      background-color: #434B5C;\n",
              "      box-shadow: 0px 1px 3px 1px rgba(0, 0, 0, 0.15);\n",
              "      filter: drop-shadow(0px 1px 2px rgba(0, 0, 0, 0.3));\n",
              "      fill: #FFFFFF;\n",
              "    }\n",
              "  </style>\n",
              "\n",
              "      <script>\n",
              "        const buttonEl =\n",
              "          document.querySelector('#df-104b4bca-f4aa-4d29-aa80-28ff4553f0e4 button.colab-df-convert');\n",
              "        buttonEl.style.display =\n",
              "          google.colab.kernel.accessAllowed ? 'block' : 'none';\n",
              "\n",
              "        async function convertToInteractive(key) {\n",
              "          const element = document.querySelector('#df-104b4bca-f4aa-4d29-aa80-28ff4553f0e4');\n",
              "          const dataTable =\n",
              "            await google.colab.kernel.invokeFunction('convertToInteractive',\n",
              "                                                     [key], {});\n",
              "          if (!dataTable) return;\n",
              "\n",
              "          const docLinkHtml = 'Like what you see? Visit the ' +\n",
              "            '<a target=\"_blank\" href=https://colab.research.google.com/notebooks/data_table.ipynb>data table notebook</a>'\n",
              "            + ' to learn more about interactive tables.';\n",
              "          element.innerHTML = '';\n",
              "          dataTable['output_type'] = 'display_data';\n",
              "          await google.colab.output.renderOutput(dataTable, element);\n",
              "          const docLink = document.createElement('div');\n",
              "          docLink.innerHTML = docLinkHtml;\n",
              "          element.appendChild(docLink);\n",
              "        }\n",
              "      </script>\n",
              "    </div>\n",
              "  </div>\n",
              "  "
            ]
          },
          "metadata": {},
          "execution_count": 1
        }
      ]
    },
    {
      "cell_type": "code",
      "source": [
        "#Observamos el contenido adquirido del archivo de la humedad\n",
        "humidity.head()"
      ],
      "metadata": {
        "colab": {
          "base_uri": "https://localhost:8080/",
          "height": 206
        },
        "id": "voA1zkYB-MTt",
        "outputId": "ef5e9b2e-2b3e-48d5-9835-3023c3d2947a"
      },
      "execution_count": 2,
      "outputs": [
        {
          "output_type": "execute_result",
          "data": {
            "text/plain": [
              "             timestamp   humidity\n",
              "0  2017-01-01 05:00:00  92.406667\n",
              "1  2017-01-01 06:00:00  92.270000\n",
              "2  2017-01-01 07:00:00  92.575000\n",
              "3  2017-01-01 08:00:00  92.840000\n",
              "4  2017-01-01 09:00:00  93.640000"
            ],
            "text/html": [
              "\n",
              "  <div id=\"df-93d4fb01-a843-44dd-8084-000e1ebcc1b7\">\n",
              "    <div class=\"colab-df-container\">\n",
              "      <div>\n",
              "<style scoped>\n",
              "    .dataframe tbody tr th:only-of-type {\n",
              "        vertical-align: middle;\n",
              "    }\n",
              "\n",
              "    .dataframe tbody tr th {\n",
              "        vertical-align: top;\n",
              "    }\n",
              "\n",
              "    .dataframe thead th {\n",
              "        text-align: right;\n",
              "    }\n",
              "</style>\n",
              "<table border=\"1\" class=\"dataframe\">\n",
              "  <thead>\n",
              "    <tr style=\"text-align: right;\">\n",
              "      <th></th>\n",
              "      <th>timestamp</th>\n",
              "      <th>humidity</th>\n",
              "    </tr>\n",
              "  </thead>\n",
              "  <tbody>\n",
              "    <tr>\n",
              "      <th>0</th>\n",
              "      <td>2017-01-01 05:00:00</td>\n",
              "      <td>92.406667</td>\n",
              "    </tr>\n",
              "    <tr>\n",
              "      <th>1</th>\n",
              "      <td>2017-01-01 06:00:00</td>\n",
              "      <td>92.270000</td>\n",
              "    </tr>\n",
              "    <tr>\n",
              "      <th>2</th>\n",
              "      <td>2017-01-01 07:00:00</td>\n",
              "      <td>92.575000</td>\n",
              "    </tr>\n",
              "    <tr>\n",
              "      <th>3</th>\n",
              "      <td>2017-01-01 08:00:00</td>\n",
              "      <td>92.840000</td>\n",
              "    </tr>\n",
              "    <tr>\n",
              "      <th>4</th>\n",
              "      <td>2017-01-01 09:00:00</td>\n",
              "      <td>93.640000</td>\n",
              "    </tr>\n",
              "  </tbody>\n",
              "</table>\n",
              "</div>\n",
              "      <button class=\"colab-df-convert\" onclick=\"convertToInteractive('df-93d4fb01-a843-44dd-8084-000e1ebcc1b7')\"\n",
              "              title=\"Convert this dataframe to an interactive table.\"\n",
              "              style=\"display:none;\">\n",
              "        \n",
              "  <svg xmlns=\"http://www.w3.org/2000/svg\" height=\"24px\"viewBox=\"0 0 24 24\"\n",
              "       width=\"24px\">\n",
              "    <path d=\"M0 0h24v24H0V0z\" fill=\"none\"/>\n",
              "    <path d=\"M18.56 5.44l.94 2.06.94-2.06 2.06-.94-2.06-.94-.94-2.06-.94 2.06-2.06.94zm-11 1L8.5 8.5l.94-2.06 2.06-.94-2.06-.94L8.5 2.5l-.94 2.06-2.06.94zm10 10l.94 2.06.94-2.06 2.06-.94-2.06-.94-.94-2.06-.94 2.06-2.06.94z\"/><path d=\"M17.41 7.96l-1.37-1.37c-.4-.4-.92-.59-1.43-.59-.52 0-1.04.2-1.43.59L10.3 9.45l-7.72 7.72c-.78.78-.78 2.05 0 2.83L4 21.41c.39.39.9.59 1.41.59.51 0 1.02-.2 1.41-.59l7.78-7.78 2.81-2.81c.8-.78.8-2.07 0-2.86zM5.41 20L4 18.59l7.72-7.72 1.47 1.35L5.41 20z\"/>\n",
              "  </svg>\n",
              "      </button>\n",
              "      \n",
              "  <style>\n",
              "    .colab-df-container {\n",
              "      display:flex;\n",
              "      flex-wrap:wrap;\n",
              "      gap: 12px;\n",
              "    }\n",
              "\n",
              "    .colab-df-convert {\n",
              "      background-color: #E8F0FE;\n",
              "      border: none;\n",
              "      border-radius: 50%;\n",
              "      cursor: pointer;\n",
              "      display: none;\n",
              "      fill: #1967D2;\n",
              "      height: 32px;\n",
              "      padding: 0 0 0 0;\n",
              "      width: 32px;\n",
              "    }\n",
              "\n",
              "    .colab-df-convert:hover {\n",
              "      background-color: #E2EBFA;\n",
              "      box-shadow: 0px 1px 2px rgba(60, 64, 67, 0.3), 0px 1px 3px 1px rgba(60, 64, 67, 0.15);\n",
              "      fill: #174EA6;\n",
              "    }\n",
              "\n",
              "    [theme=dark] .colab-df-convert {\n",
              "      background-color: #3B4455;\n",
              "      fill: #D2E3FC;\n",
              "    }\n",
              "\n",
              "    [theme=dark] .colab-df-convert:hover {\n",
              "      background-color: #434B5C;\n",
              "      box-shadow: 0px 1px 3px 1px rgba(0, 0, 0, 0.15);\n",
              "      filter: drop-shadow(0px 1px 2px rgba(0, 0, 0, 0.3));\n",
              "      fill: #FFFFFF;\n",
              "    }\n",
              "  </style>\n",
              "\n",
              "      <script>\n",
              "        const buttonEl =\n",
              "          document.querySelector('#df-93d4fb01-a843-44dd-8084-000e1ebcc1b7 button.colab-df-convert');\n",
              "        buttonEl.style.display =\n",
              "          google.colab.kernel.accessAllowed ? 'block' : 'none';\n",
              "\n",
              "        async function convertToInteractive(key) {\n",
              "          const element = document.querySelector('#df-93d4fb01-a843-44dd-8084-000e1ebcc1b7');\n",
              "          const dataTable =\n",
              "            await google.colab.kernel.invokeFunction('convertToInteractive',\n",
              "                                                     [key], {});\n",
              "          if (!dataTable) return;\n",
              "\n",
              "          const docLinkHtml = 'Like what you see? Visit the ' +\n",
              "            '<a target=\"_blank\" href=https://colab.research.google.com/notebooks/data_table.ipynb>data table notebook</a>'\n",
              "            + ' to learn more about interactive tables.';\n",
              "          element.innerHTML = '';\n",
              "          dataTable['output_type'] = 'display_data';\n",
              "          await google.colab.output.renderOutput(dataTable, element);\n",
              "          const docLink = document.createElement('div');\n",
              "          docLink.innerHTML = docLinkHtml;\n",
              "          element.appendChild(docLink);\n",
              "        }\n",
              "      </script>\n",
              "    </div>\n",
              "  </div>\n",
              "  "
            ]
          },
          "metadata": {},
          "execution_count": 2
        }
      ]
    },
    {
      "cell_type": "code",
      "source": [
        "#Observamos el contenido adquirido del archivo de la temperatura\n",
        "temperature.head()"
      ],
      "metadata": {
        "colab": {
          "base_uri": "https://localhost:8080/",
          "height": 206
        },
        "id": "UlAtLNmz-Sed",
        "outputId": "b0adb9fd-421e-4a41-d1dc-130583607b97"
      },
      "execution_count": 3,
      "outputs": [
        {
          "output_type": "execute_result",
          "data": {
            "text/plain": [
              "             timestamp  temperature\n",
              "0  2017-01-01 05:00:00    -1.911244\n",
              "1  2017-01-01 06:00:00    -1.866717\n",
              "2  2017-01-01 07:00:00    -2.077833\n",
              "3  2017-01-01 08:00:00    -2.327167\n",
              "4  2017-01-01 09:00:00    -2.791233"
            ],
            "text/html": [
              "\n",
              "  <div id=\"df-f197bc70-36e5-4167-85f4-4f0288ef9b98\">\n",
              "    <div class=\"colab-df-container\">\n",
              "      <div>\n",
              "<style scoped>\n",
              "    .dataframe tbody tr th:only-of-type {\n",
              "        vertical-align: middle;\n",
              "    }\n",
              "\n",
              "    .dataframe tbody tr th {\n",
              "        vertical-align: top;\n",
              "    }\n",
              "\n",
              "    .dataframe thead th {\n",
              "        text-align: right;\n",
              "    }\n",
              "</style>\n",
              "<table border=\"1\" class=\"dataframe\">\n",
              "  <thead>\n",
              "    <tr style=\"text-align: right;\">\n",
              "      <th></th>\n",
              "      <th>timestamp</th>\n",
              "      <th>temperature</th>\n",
              "    </tr>\n",
              "  </thead>\n",
              "  <tbody>\n",
              "    <tr>\n",
              "      <th>0</th>\n",
              "      <td>2017-01-01 05:00:00</td>\n",
              "      <td>-1.911244</td>\n",
              "    </tr>\n",
              "    <tr>\n",
              "      <th>1</th>\n",
              "      <td>2017-01-01 06:00:00</td>\n",
              "      <td>-1.866717</td>\n",
              "    </tr>\n",
              "    <tr>\n",
              "      <th>2</th>\n",
              "      <td>2017-01-01 07:00:00</td>\n",
              "      <td>-2.077833</td>\n",
              "    </tr>\n",
              "    <tr>\n",
              "      <th>3</th>\n",
              "      <td>2017-01-01 08:00:00</td>\n",
              "      <td>-2.327167</td>\n",
              "    </tr>\n",
              "    <tr>\n",
              "      <th>4</th>\n",
              "      <td>2017-01-01 09:00:00</td>\n",
              "      <td>-2.791233</td>\n",
              "    </tr>\n",
              "  </tbody>\n",
              "</table>\n",
              "</div>\n",
              "      <button class=\"colab-df-convert\" onclick=\"convertToInteractive('df-f197bc70-36e5-4167-85f4-4f0288ef9b98')\"\n",
              "              title=\"Convert this dataframe to an interactive table.\"\n",
              "              style=\"display:none;\">\n",
              "        \n",
              "  <svg xmlns=\"http://www.w3.org/2000/svg\" height=\"24px\"viewBox=\"0 0 24 24\"\n",
              "       width=\"24px\">\n",
              "    <path d=\"M0 0h24v24H0V0z\" fill=\"none\"/>\n",
              "    <path d=\"M18.56 5.44l.94 2.06.94-2.06 2.06-.94-2.06-.94-.94-2.06-.94 2.06-2.06.94zm-11 1L8.5 8.5l.94-2.06 2.06-.94-2.06-.94L8.5 2.5l-.94 2.06-2.06.94zm10 10l.94 2.06.94-2.06 2.06-.94-2.06-.94-.94-2.06-.94 2.06-2.06.94z\"/><path d=\"M17.41 7.96l-1.37-1.37c-.4-.4-.92-.59-1.43-.59-.52 0-1.04.2-1.43.59L10.3 9.45l-7.72 7.72c-.78.78-.78 2.05 0 2.83L4 21.41c.39.39.9.59 1.41.59.51 0 1.02-.2 1.41-.59l7.78-7.78 2.81-2.81c.8-.78.8-2.07 0-2.86zM5.41 20L4 18.59l7.72-7.72 1.47 1.35L5.41 20z\"/>\n",
              "  </svg>\n",
              "      </button>\n",
              "      \n",
              "  <style>\n",
              "    .colab-df-container {\n",
              "      display:flex;\n",
              "      flex-wrap:wrap;\n",
              "      gap: 12px;\n",
              "    }\n",
              "\n",
              "    .colab-df-convert {\n",
              "      background-color: #E8F0FE;\n",
              "      border: none;\n",
              "      border-radius: 50%;\n",
              "      cursor: pointer;\n",
              "      display: none;\n",
              "      fill: #1967D2;\n",
              "      height: 32px;\n",
              "      padding: 0 0 0 0;\n",
              "      width: 32px;\n",
              "    }\n",
              "\n",
              "    .colab-df-convert:hover {\n",
              "      background-color: #E2EBFA;\n",
              "      box-shadow: 0px 1px 2px rgba(60, 64, 67, 0.3), 0px 1px 3px 1px rgba(60, 64, 67, 0.15);\n",
              "      fill: #174EA6;\n",
              "    }\n",
              "\n",
              "    [theme=dark] .colab-df-convert {\n",
              "      background-color: #3B4455;\n",
              "      fill: #D2E3FC;\n",
              "    }\n",
              "\n",
              "    [theme=dark] .colab-df-convert:hover {\n",
              "      background-color: #434B5C;\n",
              "      box-shadow: 0px 1px 3px 1px rgba(0, 0, 0, 0.15);\n",
              "      filter: drop-shadow(0px 1px 2px rgba(0, 0, 0, 0.3));\n",
              "      fill: #FFFFFF;\n",
              "    }\n",
              "  </style>\n",
              "\n",
              "      <script>\n",
              "        const buttonEl =\n",
              "          document.querySelector('#df-f197bc70-36e5-4167-85f4-4f0288ef9b98 button.colab-df-convert');\n",
              "        buttonEl.style.display =\n",
              "          google.colab.kernel.accessAllowed ? 'block' : 'none';\n",
              "\n",
              "        async function convertToInteractive(key) {\n",
              "          const element = document.querySelector('#df-f197bc70-36e5-4167-85f4-4f0288ef9b98');\n",
              "          const dataTable =\n",
              "            await google.colab.kernel.invokeFunction('convertToInteractive',\n",
              "                                                     [key], {});\n",
              "          if (!dataTable) return;\n",
              "\n",
              "          const docLinkHtml = 'Like what you see? Visit the ' +\n",
              "            '<a target=\"_blank\" href=https://colab.research.google.com/notebooks/data_table.ipynb>data table notebook</a>'\n",
              "            + ' to learn more about interactive tables.';\n",
              "          element.innerHTML = '';\n",
              "          dataTable['output_type'] = 'display_data';\n",
              "          await google.colab.output.renderOutput(dataTable, element);\n",
              "          const docLink = document.createElement('div');\n",
              "          docLink.innerHTML = docLinkHtml;\n",
              "          element.appendChild(docLink);\n",
              "        }\n",
              "      </script>\n",
              "    </div>\n",
              "  </div>\n",
              "  "
            ]
          },
          "metadata": {},
          "execution_count": 3
        }
      ]
    },
    {
      "cell_type": "code",
      "source": [
        "#Observamos el contenido adquirido del archivo del peso\n",
        "weight.head()"
      ],
      "metadata": {
        "colab": {
          "base_uri": "https://localhost:8080/",
          "height": 206
        },
        "id": "g7rUXYoe-SwG",
        "outputId": "720cf30a-1a6c-4099-862e-ee76b54a20ba"
      },
      "execution_count": 4,
      "outputs": [
        {
          "output_type": "execute_result",
          "data": {
            "text/plain": [
              "             timestamp   weight\n",
              "0  2017-01-01 05:15:00  52.6974\n",
              "1  2017-01-01 05:16:00  52.6974\n",
              "2  2017-01-01 05:17:00  52.6974\n",
              "3  2017-01-01 05:18:00  52.6974\n",
              "4  2017-01-01 05:19:00  52.6973"
            ],
            "text/html": [
              "\n",
              "  <div id=\"df-760805ff-d17e-4bd3-bde7-3571d9ff00f6\">\n",
              "    <div class=\"colab-df-container\">\n",
              "      <div>\n",
              "<style scoped>\n",
              "    .dataframe tbody tr th:only-of-type {\n",
              "        vertical-align: middle;\n",
              "    }\n",
              "\n",
              "    .dataframe tbody tr th {\n",
              "        vertical-align: top;\n",
              "    }\n",
              "\n",
              "    .dataframe thead th {\n",
              "        text-align: right;\n",
              "    }\n",
              "</style>\n",
              "<table border=\"1\" class=\"dataframe\">\n",
              "  <thead>\n",
              "    <tr style=\"text-align: right;\">\n",
              "      <th></th>\n",
              "      <th>timestamp</th>\n",
              "      <th>weight</th>\n",
              "    </tr>\n",
              "  </thead>\n",
              "  <tbody>\n",
              "    <tr>\n",
              "      <th>0</th>\n",
              "      <td>2017-01-01 05:15:00</td>\n",
              "      <td>52.6974</td>\n",
              "    </tr>\n",
              "    <tr>\n",
              "      <th>1</th>\n",
              "      <td>2017-01-01 05:16:00</td>\n",
              "      <td>52.6974</td>\n",
              "    </tr>\n",
              "    <tr>\n",
              "      <th>2</th>\n",
              "      <td>2017-01-01 05:17:00</td>\n",
              "      <td>52.6974</td>\n",
              "    </tr>\n",
              "    <tr>\n",
              "      <th>3</th>\n",
              "      <td>2017-01-01 05:18:00</td>\n",
              "      <td>52.6974</td>\n",
              "    </tr>\n",
              "    <tr>\n",
              "      <th>4</th>\n",
              "      <td>2017-01-01 05:19:00</td>\n",
              "      <td>52.6973</td>\n",
              "    </tr>\n",
              "  </tbody>\n",
              "</table>\n",
              "</div>\n",
              "      <button class=\"colab-df-convert\" onclick=\"convertToInteractive('df-760805ff-d17e-4bd3-bde7-3571d9ff00f6')\"\n",
              "              title=\"Convert this dataframe to an interactive table.\"\n",
              "              style=\"display:none;\">\n",
              "        \n",
              "  <svg xmlns=\"http://www.w3.org/2000/svg\" height=\"24px\"viewBox=\"0 0 24 24\"\n",
              "       width=\"24px\">\n",
              "    <path d=\"M0 0h24v24H0V0z\" fill=\"none\"/>\n",
              "    <path d=\"M18.56 5.44l.94 2.06.94-2.06 2.06-.94-2.06-.94-.94-2.06-.94 2.06-2.06.94zm-11 1L8.5 8.5l.94-2.06 2.06-.94-2.06-.94L8.5 2.5l-.94 2.06-2.06.94zm10 10l.94 2.06.94-2.06 2.06-.94-2.06-.94-.94-2.06-.94 2.06-2.06.94z\"/><path d=\"M17.41 7.96l-1.37-1.37c-.4-.4-.92-.59-1.43-.59-.52 0-1.04.2-1.43.59L10.3 9.45l-7.72 7.72c-.78.78-.78 2.05 0 2.83L4 21.41c.39.39.9.59 1.41.59.51 0 1.02-.2 1.41-.59l7.78-7.78 2.81-2.81c.8-.78.8-2.07 0-2.86zM5.41 20L4 18.59l7.72-7.72 1.47 1.35L5.41 20z\"/>\n",
              "  </svg>\n",
              "      </button>\n",
              "      \n",
              "  <style>\n",
              "    .colab-df-container {\n",
              "      display:flex;\n",
              "      flex-wrap:wrap;\n",
              "      gap: 12px;\n",
              "    }\n",
              "\n",
              "    .colab-df-convert {\n",
              "      background-color: #E8F0FE;\n",
              "      border: none;\n",
              "      border-radius: 50%;\n",
              "      cursor: pointer;\n",
              "      display: none;\n",
              "      fill: #1967D2;\n",
              "      height: 32px;\n",
              "      padding: 0 0 0 0;\n",
              "      width: 32px;\n",
              "    }\n",
              "\n",
              "    .colab-df-convert:hover {\n",
              "      background-color: #E2EBFA;\n",
              "      box-shadow: 0px 1px 2px rgba(60, 64, 67, 0.3), 0px 1px 3px 1px rgba(60, 64, 67, 0.15);\n",
              "      fill: #174EA6;\n",
              "    }\n",
              "\n",
              "    [theme=dark] .colab-df-convert {\n",
              "      background-color: #3B4455;\n",
              "      fill: #D2E3FC;\n",
              "    }\n",
              "\n",
              "    [theme=dark] .colab-df-convert:hover {\n",
              "      background-color: #434B5C;\n",
              "      box-shadow: 0px 1px 3px 1px rgba(0, 0, 0, 0.15);\n",
              "      filter: drop-shadow(0px 1px 2px rgba(0, 0, 0, 0.3));\n",
              "      fill: #FFFFFF;\n",
              "    }\n",
              "  </style>\n",
              "\n",
              "      <script>\n",
              "        const buttonEl =\n",
              "          document.querySelector('#df-760805ff-d17e-4bd3-bde7-3571d9ff00f6 button.colab-df-convert');\n",
              "        buttonEl.style.display =\n",
              "          google.colab.kernel.accessAllowed ? 'block' : 'none';\n",
              "\n",
              "        async function convertToInteractive(key) {\n",
              "          const element = document.querySelector('#df-760805ff-d17e-4bd3-bde7-3571d9ff00f6');\n",
              "          const dataTable =\n",
              "            await google.colab.kernel.invokeFunction('convertToInteractive',\n",
              "                                                     [key], {});\n",
              "          if (!dataTable) return;\n",
              "\n",
              "          const docLinkHtml = 'Like what you see? Visit the ' +\n",
              "            '<a target=\"_blank\" href=https://colab.research.google.com/notebooks/data_table.ipynb>data table notebook</a>'\n",
              "            + ' to learn more about interactive tables.';\n",
              "          element.innerHTML = '';\n",
              "          dataTable['output_type'] = 'display_data';\n",
              "          await google.colab.output.renderOutput(dataTable, element);\n",
              "          const docLink = document.createElement('div');\n",
              "          docLink.innerHTML = docLinkHtml;\n",
              "          element.appendChild(docLink);\n",
              "        }\n",
              "      </script>\n",
              "    </div>\n",
              "  </div>\n",
              "  "
            ]
          },
          "metadata": {},
          "execution_count": 4
        }
      ]
    },
    {
      "cell_type": "markdown",
      "source": [
        "###Entrega 02 - SCRUB"
      ],
      "metadata": {
        "id": "UrSIZErtBxuB"
      }
    },
    {
      "cell_type": "markdown",
      "source": [
        "Comenzamos verificando si exiten valores NAs en los conjuntos de datos"
      ],
      "metadata": {
        "id": "GoXgC4pEB25M"
      }
    },
    {
      "cell_type": "code",
      "source": [
        "#Verificamos si existen NAs dentro del conjunto de datos.\n",
        "flow.info()"
      ],
      "metadata": {
        "colab": {
          "base_uri": "https://localhost:8080/"
        },
        "id": "f65QXTUfAl0i",
        "outputId": "59a153ba-0ce6-477c-a27e-5ab9950eca85"
      },
      "execution_count": 5,
      "outputs": [
        {
          "output_type": "stream",
          "name": "stdout",
          "text": [
            "<class 'pandas.core.frame.DataFrame'>\n",
            "RangeIndex: 1048220 entries, 0 to 1048219\n",
            "Data columns (total 2 columns):\n",
            " #   Column     Non-Null Count    Dtype \n",
            "---  ------     --------------    ----- \n",
            " 0   timestamp  1048220 non-null  object\n",
            " 1   flow       1048220 non-null  int64 \n",
            "dtypes: int64(1), object(1)\n",
            "memory usage: 16.0+ MB\n"
          ]
        }
      ]
    },
    {
      "cell_type": "code",
      "source": [
        "#Verificamos si existen NAs dentro del conjunto de datos.\n",
        "humidity.info()"
      ],
      "metadata": {
        "colab": {
          "base_uri": "https://localhost:8080/"
        },
        "id": "ZzEuqT9xBwT_",
        "outputId": "704ac53c-db95-40ef-f9fb-5a08027251cf"
      },
      "execution_count": 6,
      "outputs": [
        {
          "output_type": "stream",
          "name": "stdout",
          "text": [
            "<class 'pandas.core.frame.DataFrame'>\n",
            "RangeIndex: 8737 entries, 0 to 8736\n",
            "Data columns (total 2 columns):\n",
            " #   Column     Non-Null Count  Dtype  \n",
            "---  ------     --------------  -----  \n",
            " 0   timestamp  8737 non-null   object \n",
            " 1   humidity   8737 non-null   float64\n",
            "dtypes: float64(1), object(1)\n",
            "memory usage: 136.6+ KB\n"
          ]
        }
      ]
    },
    {
      "cell_type": "code",
      "source": [
        "#Verificamos si existen NAs dentro del conjunto de datos.\n",
        "temperature.info()"
      ],
      "metadata": {
        "colab": {
          "base_uri": "https://localhost:8080/"
        },
        "id": "i30s2nT7Ce54",
        "outputId": "9c7c4307-7880-4a74-b0d8-0e8269251506"
      },
      "execution_count": 7,
      "outputs": [
        {
          "output_type": "stream",
          "name": "stdout",
          "text": [
            "<class 'pandas.core.frame.DataFrame'>\n",
            "RangeIndex: 401869 entries, 0 to 401868\n",
            "Data columns (total 2 columns):\n",
            " #   Column       Non-Null Count   Dtype  \n",
            "---  ------       --------------   -----  \n",
            " 0   timestamp    401869 non-null  object \n",
            " 1   temperature  401866 non-null  float64\n",
            "dtypes: float64(1), object(1)\n",
            "memory usage: 6.1+ MB\n"
          ]
        }
      ]
    },
    {
      "cell_type": "code",
      "source": [
        "#Verificamos si existen NAs dentro del conjunto de datos.\n",
        "weight.info()"
      ],
      "metadata": {
        "colab": {
          "base_uri": "https://localhost:8080/"
        },
        "id": "5qRekOnrCigG",
        "outputId": "ce811275-e469-45b6-d624-76edb88a3235"
      },
      "execution_count": 8,
      "outputs": [
        {
          "output_type": "stream",
          "name": "stdout",
          "text": [
            "<class 'pandas.core.frame.DataFrame'>\n",
            "RangeIndex: 524110 entries, 0 to 524109\n",
            "Data columns (total 2 columns):\n",
            " #   Column     Non-Null Count   Dtype  \n",
            "---  ------     --------------   -----  \n",
            " 0   timestamp  524110 non-null  object \n",
            " 1   weight     524110 non-null  float64\n",
            "dtypes: float64(1), object(1)\n",
            "memory usage: 8.0+ MB\n"
          ]
        }
      ]
    },
    {
      "cell_type": "markdown",
      "source": [
        "Como observamos, solo se detectan NAs en el archivo de la temperatura, pues en este es el único donde varía la cantidad de filas que contiene con la cantidad de elementos not-null encontrados. Pero como solo son 3 elementos, revisamos el archivo para en lugar de eliminarlas, podemos insertar un valor consistente a los cercanos"
      ],
      "metadata": {
        "id": "qJKH_fnEDc_h"
      }
    },
    {
      "cell_type": "code",
      "source": [
        "filas_con_na = temperature['temperature'].isna()\n",
        "\n",
        "# Encuentra el índice de la primera fila que cumple con la condición\n",
        "indice = filas_con_na.idxmax()\n",
        "if (indice != 0):\n",
        "    print('Existe un valor faltante en la fila', indice)\n",
        "    temperature.loc[43685, 'temperature'] = 2.9582\n",
        "\n",
        "if (indice != 0):\n",
        "  indice = filas_con_na.idxmax()\n",
        "  print('Existe un valor faltante en la fila', indice)\n",
        "  temperature.loc[192203, 'temperature'] = -2.6302\n",
        "\n",
        "if (indice != 0):\n",
        "  indice = filas_con_na.idxmax()\n",
        "  print('Existe un valor faltante en la fila', indice)\n",
        "  temperature.loc[297036, 'temperature'] = -3.4036\n",
        "\n",
        "if (indice == 0):\n",
        "  print('Ya no existen datos faltantes')\n",
        "else:\n",
        "  print('Aun existen datos faltantes')"
      ],
      "metadata": {
        "colab": {
          "base_uri": "https://localhost:8080/"
        },
        "id": "VxjCRm_qCvov",
        "outputId": "bf944cd6-99d5-4aae-b65d-a92280d850e4"
      },
      "execution_count": 9,
      "outputs": [
        {
          "output_type": "stream",
          "name": "stdout",
          "text": [
            "Existe un valor faltante en la fila 43685\n",
            "Existe un valor faltante en la fila 43685\n",
            "Existe un valor faltante en la fila 43685\n",
            "Aun existen datos faltantes\n"
          ]
        }
      ]
    },
    {
      "cell_type": "markdown",
      "source": [
        "Para resolver el problema de los datos faltantes se decide insertar, en la fila en que está el NA, el mismo valor de la fila siguente, debido a que no deberia existir un cambio de temperatura mayor a 1°C. Lo cual no altera el resultado del análisis.\n",
        "\n",
        "Por otro lado, se nos comunica que el archivo de temperatura contiene las mediciones de 13 sensores diferentes, por lo que se debe separar en columnas las mediciones de cada sensor."
      ],
      "metadata": {
        "id": "06jFhn4mWgCi"
      }
    },
    {
      "cell_type": "code",
      "source": [
        "temp1 = temperature.loc[0:8736, ['temperature']].copy()\n",
        "time1 = temperature.loc[0:8736, ['timestamp']].copy()\n",
        "sensor1 = pd.DataFrame(time1)\n",
        "sensor1['temperature'] = temp1\n",
        "sensor1\n",
        "print(\"Sensor1: \", len(sensor1))\n",
        "temp2 = temperature.loc[8737:17473, ['temperature']].copy()\n",
        "time2 = temperature.loc[8737:17473, ['timestamp']].copy()\n",
        "sensor2 = pd.DataFrame(time2)\n",
        "sensor2['temperature'] = temp2\n",
        "sensor2\n",
        "print(\"Sensor2: \", len(sensor2))\n",
        "temp3 = temperature.loc[17474:26210, ['temperature']].copy()\n",
        "time3 = temperature.loc[17474:26210, ['timestamp']].copy()\n",
        "sensor3 = pd.DataFrame(time3)\n",
        "sensor3['temperature'] = temp3\n",
        "sensor3\n",
        "print(\"Sensor3: \", len(sensor3))\n",
        "temp4 = temperature.loc[26211:34947, ['temperature']].copy()\n",
        "time4 = temperature.loc[26211:34947, ['timestamp']].copy()\n",
        "sensor4 = pd.DataFrame(time4)\n",
        "sensor4['temperature'] = temp4\n",
        "sensor4\n",
        "print(\"Sensor4: \", len(sensor4))\n",
        "temp5 = temperature.loc[34948:43684, ['temperature']].copy()\n",
        "time5 = temperature.loc[34948:43684, ['timestamp']].copy()\n",
        "sensor5 = pd.DataFrame(time5)\n",
        "sensor5['temperature'] = temp5\n",
        "sensor5\n",
        "print(\"Sensor5: \", len(sensor5))\n",
        "#Este conjunto tiene bastantes datos, pues se realizó una medición cada 5 minutos durante el año de estudio\n",
        "temp6 = temperature.loc[43685:148517, ['temperature']].copy()\n",
        "time6 = temperature.loc[43685:148517, ['timestamp']].copy()\n",
        "sensor6 = pd.DataFrame(time6)\n",
        "sensor6['temperature'] = temp6\n",
        "sensor6\n",
        "print(\"Sensor6: \", len(sensor6))\n",
        "temp7 = temperature.loc[148518:157254, ['temperature']].copy()\n",
        "time7 = temperature.loc[148518:157254, ['timestamp']].copy()\n",
        "sensor7 = pd.DataFrame(time7)\n",
        "sensor7['temperature'] = temp7\n",
        "sensor7\n",
        "print(\"Sensor7: \", len(sensor7))\n",
        "temp8 = temperature.loc[157255:165991, ['temperature']].copy()\n",
        "time8 = temperature.loc[157255:165991, ['timestamp']].copy()\n",
        "sensor8 = pd.DataFrame(time8)\n",
        "sensor8['temperature'] = temp8\n",
        "sensor8\n",
        "print(\"Sensor8: \", len(sensor8))\n",
        "temp9 = temperature.loc[165991:174728, ['temperature']].copy()\n",
        "time9 = temperature.loc[165991:174728, ['timestamp']].copy()\n",
        "sensor9 = pd.DataFrame(time9)\n",
        "sensor9['temperature'] = temp9\n",
        "sensor9\n",
        "print(\"Sensor9: \", len(sensor9))\n",
        "temp10 = temperature.loc[174729:183465, ['temperature']].copy()\n",
        "time10 = temperature.loc[174729:183465, ['timestamp']].copy()\n",
        "sensor10 = pd.DataFrame(time10)\n",
        "sensor10['temperature'] = temp10\n",
        "sensor10\n",
        "print(\"Sensor10: \", len(sensor10))\n",
        "temp11 = temperature.loc[183466:192202, ['temperature']].copy()\n",
        "time11 = temperature.loc[183466:192202, ['timestamp']].copy()\n",
        "sensor11 = pd.DataFrame(time11)\n",
        "sensor11['temperature'] = temp11\n",
        "sensor11\n",
        "print(\"Sensor11: \", len(sensor11))\n",
        "#Este conjunto tiene bastantes datos, pues se realizó una medición cada 5 minutos durante el año de estudio\n",
        "temp12 = temperature.loc[192203:297035, ['temperature']].copy()\n",
        "time12 = temperature.loc[192203:297035, ['timestamp']].copy()\n",
        "sensor12 = pd.DataFrame(time12)\n",
        "sensor12['temperature'] = temp12\n",
        "sensor12\n",
        "print(\"Sensor12: \", len(sensor12))\n",
        "#Este conjunto tiene bastantes datos, pues se realizó una medición cada 5 minutos durante el año de estudio\n",
        "temp13 = temperature.loc[297036:401869, ['temperature']].copy()\n",
        "time13 = temperature.loc[297036:401869, ['timestamp']].copy()\n",
        "sensor13 = pd.DataFrame(time13)\n",
        "sensor13['temperature'] = temp13\n",
        "sensor13\n",
        "print(\"Sensor13: \", len(sensor13))"
      ],
      "metadata": {
        "id": "TOeyZfPVT8sn",
        "outputId": "26154b0c-609f-429d-8928-3295c28229fb",
        "colab": {
          "base_uri": "https://localhost:8080/"
        }
      },
      "execution_count": 61,
      "outputs": [
        {
          "output_type": "stream",
          "name": "stdout",
          "text": [
            "Sensor1:  8737\n",
            "Sensor2:  8737\n",
            "Sensor3:  8737\n",
            "Sensor4:  8737\n",
            "Sensor5:  8737\n",
            "Sensor6:  104833\n",
            "Sensor7:  8737\n",
            "Sensor8:  8737\n",
            "Sensor9:  8738\n",
            "Sensor10:  8737\n",
            "Sensor11:  8737\n",
            "Sensor12:  104833\n",
            "Sensor13:  104833\n"
          ]
        }
      ]
    },
    {
      "cell_type": "markdown",
      "source": [
        "*Es necesario tener un detalle de cuantas variables están considerando y el tipo de datos que pertenecen para verificar si es posible utilizarla directamente para el modelo predictivo o si es necesario realizar una transformación del tipo de dato.*"
      ],
      "metadata": {
        "id": "5C6bszikvwBm"
      }
    },
    {
      "cell_type": "code",
      "source": [
        "flow.info()"
      ],
      "metadata": {
        "id": "DWjGmlxkpYMK",
        "outputId": "cc7a5ab1-eb28-4445-f97f-ed0106cc07db",
        "colab": {
          "base_uri": "https://localhost:8080/"
        }
      },
      "execution_count": 62,
      "outputs": [
        {
          "output_type": "stream",
          "name": "stdout",
          "text": [
            "<class 'pandas.core.frame.DataFrame'>\n",
            "RangeIndex: 1048220 entries, 0 to 1048219\n",
            "Data columns (total 2 columns):\n",
            " #   Column     Non-Null Count    Dtype \n",
            "---  ------     --------------    ----- \n",
            " 0   timestamp  1048220 non-null  object\n",
            " 1   flow       1048220 non-null  int64 \n",
            "dtypes: int64(1), object(1)\n",
            "memory usage: 16.0+ MB\n"
          ]
        }
      ]
    },
    {
      "cell_type": "markdown",
      "source": [
        "*Muchas de las variables contenidas en el DataFrame originalmente se encuentran en el tipo de dato 'object'. En ese formato las variables no pueden ser interpretadas como vectores. Recordemos que la mayoría de los modelos de Machine Learning estudiados operan en el espacio vectorial. Por esta razón las variables que formarán parte del modelo predictivo deben ser transformadas a un formato numérico como 'Float' o 'integer'.*"
      ],
      "metadata": {
        "id": "n_96jl3ov21g"
      }
    },
    {
      "cell_type": "code",
      "source": [],
      "metadata": {
        "id": "Hlrc2AdkvlQe"
      },
      "execution_count": null,
      "outputs": []
    },
    {
      "cell_type": "code",
      "source": [],
      "metadata": {
        "id": "hTOsQCzVvlop"
      },
      "execution_count": null,
      "outputs": []
    },
    {
      "cell_type": "code",
      "source": [],
      "metadata": {
        "id": "5KqdLilxvl-F"
      },
      "execution_count": null,
      "outputs": []
    }
  ]
}